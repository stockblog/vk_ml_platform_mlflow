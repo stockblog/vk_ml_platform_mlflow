{
 "cells": [
  {
   "cell_type": "code",
   "execution_count": 1,
   "id": "8a9720c4-1fe3-42c2-a938-ec5efa1b5c74",
   "metadata": {},
   "outputs": [
    {
     "name": "stdout",
     "output_type": "stream",
     "text": [
      "Defaulting to user installation because normal site-packages is not writeable\n",
      "Requirement already satisfied: sklearn in ./.local/lib/python3.9/site-packages (0.0)\n",
      "Requirement already satisfied: catboost in ./.local/lib/python3.9/site-packages (1.1)\n",
      "Requirement already satisfied: seaborn in ./.local/lib/python3.9/site-packages (0.12.1)\n",
      "Requirement already satisfied: pyarrow in ./.local/lib/python3.9/site-packages (9.0.0)\n",
      "Requirement already satisfied: scikit-learn in ./.local/lib/python3.9/site-packages (from sklearn) (1.1.2)\n",
      "Requirement already satisfied: scipy in /opt/tljh/user/lib/python3.9/site-packages (from catboost) (1.9.1)\n",
      "Requirement already satisfied: numpy>=1.16.0 in /opt/tljh/user/lib/python3.9/site-packages (from catboost) (1.23.3)\n",
      "Requirement already satisfied: six in /opt/tljh/user/lib/python3.9/site-packages (from catboost) (1.16.0)\n",
      "Requirement already satisfied: pandas>=0.24.0 in /opt/tljh/user/lib/python3.9/site-packages (from catboost) (1.5.0)\n",
      "Requirement already satisfied: plotly in ./.local/lib/python3.9/site-packages (from catboost) (5.10.0)\n",
      "Requirement already satisfied: graphviz in ./.local/lib/python3.9/site-packages (from catboost) (0.20.1)\n",
      "Requirement already satisfied: matplotlib in ./.local/lib/python3.9/site-packages (from catboost) (3.6.0)\n",
      "Requirement already satisfied: contourpy>=1.0.1 in ./.local/lib/python3.9/site-packages (from matplotlib->catboost) (1.0.5)\n",
      "Requirement already satisfied: pillow>=6.2.0 in ./.local/lib/python3.9/site-packages (from matplotlib->catboost) (9.2.0)\n",
      "Requirement already satisfied: pyparsing>=2.2.1 in /opt/tljh/user/lib/python3.9/site-packages (from matplotlib->catboost) (3.0.9)\n",
      "Requirement already satisfied: fonttools>=4.22.0 in ./.local/lib/python3.9/site-packages (from matplotlib->catboost) (4.38.0)\n",
      "Requirement already satisfied: cycler>=0.10 in ./.local/lib/python3.9/site-packages (from matplotlib->catboost) (0.11.0)\n",
      "Requirement already satisfied: python-dateutil>=2.7 in /opt/tljh/user/lib/python3.9/site-packages (from matplotlib->catboost) (2.8.2)\n",
      "Requirement already satisfied: kiwisolver>=1.0.1 in ./.local/lib/python3.9/site-packages (from matplotlib->catboost) (1.4.4)\n",
      "Requirement already satisfied: packaging>=20.0 in /opt/tljh/user/lib/python3.9/site-packages (from matplotlib->catboost) (21.3)\n",
      "Requirement already satisfied: pytz>=2020.1 in /opt/tljh/user/lib/python3.9/site-packages (from pandas>=0.24.0->catboost) (2022.2.1)\n",
      "Requirement already satisfied: tenacity>=6.2.0 in ./.local/lib/python3.9/site-packages (from plotly->catboost) (8.1.0)\n",
      "Requirement already satisfied: threadpoolctl>=2.0.0 in ./.local/lib/python3.9/site-packages (from scikit-learn->sklearn) (3.1.0)\n",
      "Requirement already satisfied: joblib>=1.0.0 in ./.local/lib/python3.9/site-packages (from scikit-learn->sklearn) (1.2.0)\n"
     ]
    }
   ],
   "source": [
    "!pip install sklearn catboost seaborn pyarrow"
   ]
  },
  {
   "cell_type": "code",
   "execution_count": 2,
   "id": "14ac7591-12eb-4a4d-b1f6-823d1ffde845",
   "metadata": {},
   "outputs": [],
   "source": [
    "import mlflow\n",
    "from mlflow.models.signature import ModelSignature\n",
    "from mlflow.types.schema import Schema, ColSpec\n",
    "from mlflow.models.signature import infer_signature\n",
    "import pandas as pd\n",
    "import sklearn\n",
    "from sklearn.model_selection import train_test_split\n",
    "from sklearn.metrics import roc_auc_score, precision_score, recall_score, f1_score\n",
    "import matplotlib.pyplot as plt\n",
    "import seaborn as sns\n",
    "import catboost\n",
    "from catboost import CatBoostClassifier, Pool\n",
    "from catboost.utils import get_roc_curve, get_fpr_curve\n",
    "import matplotlib.pyplot as plt\n",
    "%matplotlib inline"
   ]
  },
  {
   "cell_type": "code",
   "execution_count": 3,
   "id": "f52c9b90-a45c-4847-b25e-33f644da6a39",
   "metadata": {},
   "outputs": [
    {
     "data": {
      "text/plain": [
       "'https://ml-platform-3b36c8fb4e4070.ml.msk.vkcs.cloud'"
      ]
     },
     "execution_count": 3,
     "metadata": {},
     "output_type": "execute_result"
    }
   ],
   "source": [
    "mlflow.get_tracking_uri()"
   ]
  },
  {
   "cell_type": "code",
   "execution_count": 4,
   "id": "93fff76c-8602-4095-9825-e89a5dfbfffb",
   "metadata": {},
   "outputs": [
    {
     "data": {
      "text/plain": [
       "<Experiment: artifact_location='mlflow-artifacts:/1', experiment_id='1', lifecycle_stage='active', name='driver-accident', tags={}>"
      ]
     },
     "execution_count": 4,
     "metadata": {},
     "output_type": "execute_result"
    }
   ],
   "source": [
    "#mlflow.set_tracking_uri(\"https://ml-platform-3b36c8fb4e4070.ml.msk.vkcs.cloud/\")\n",
    "mlflow.set_experiment(experiment_name=\"driver-accident\")"
   ]
  },
  {
   "cell_type": "markdown",
   "id": "c779f52e-f3a3-466c-9ab6-9b0e615f626e",
   "metadata": {
    "jp-MarkdownHeadingCollapsed": true,
    "tags": []
   },
   "source": [
    "### Данные"
   ]
  },
  {
   "cell_type": "code",
   "execution_count": 5,
   "id": "bf2cf557-2e9a-4590-8427-d8d885ddbb0c",
   "metadata": {},
   "outputs": [],
   "source": [
    "df = pd.read_parquet('driver-stat.parquet')"
   ]
  },
  {
   "cell_type": "code",
   "execution_count": 6,
   "id": "22e9b4b5-b0ac-4102-9e6c-75f138098369",
   "metadata": {},
   "outputs": [
    {
     "data": {
      "text/html": [
       "<div>\n",
       "<style scoped>\n",
       "    .dataframe tbody tr th:only-of-type {\n",
       "        vertical-align: middle;\n",
       "    }\n",
       "\n",
       "    .dataframe tbody tr th {\n",
       "        vertical-align: top;\n",
       "    }\n",
       "\n",
       "    .dataframe thead th {\n",
       "        text-align: right;\n",
       "    }\n",
       "</style>\n",
       "<table border=\"1\" class=\"dataframe\">\n",
       "  <thead>\n",
       "    <tr style=\"text-align: right;\">\n",
       "      <th></th>\n",
       "      <th>driver_id</th>\n",
       "      <th>age</th>\n",
       "      <th>sex</th>\n",
       "      <th>car_class</th>\n",
       "      <th>driving_experience</th>\n",
       "      <th>speeding_penalties</th>\n",
       "      <th>parking_penalties</th>\n",
       "      <th>total_car_accident</th>\n",
       "      <th>has_car_accident</th>\n",
       "    </tr>\n",
       "  </thead>\n",
       "  <tbody>\n",
       "    <tr>\n",
       "      <th>0</th>\n",
       "      <td>ab3e7f31ace042fd89da60825c89ea6d</td>\n",
       "      <td>29</td>\n",
       "      <td>male</td>\n",
       "      <td>B</td>\n",
       "      <td>2</td>\n",
       "      <td>0</td>\n",
       "      <td>0</td>\n",
       "      <td>0</td>\n",
       "      <td>0</td>\n",
       "    </tr>\n",
       "    <tr>\n",
       "      <th>1</th>\n",
       "      <td>3be9de3ea320458889bc917524795aa0</td>\n",
       "      <td>25</td>\n",
       "      <td>female</td>\n",
       "      <td>B</td>\n",
       "      <td>1</td>\n",
       "      <td>2</td>\n",
       "      <td>0</td>\n",
       "      <td>0</td>\n",
       "      <td>0</td>\n",
       "    </tr>\n",
       "    <tr>\n",
       "      <th>2</th>\n",
       "      <td>4b520b87244c4e8db7f06d452c696786</td>\n",
       "      <td>24</td>\n",
       "      <td>female</td>\n",
       "      <td>D</td>\n",
       "      <td>2</td>\n",
       "      <td>1</td>\n",
       "      <td>0</td>\n",
       "      <td>0</td>\n",
       "      <td>0</td>\n",
       "    </tr>\n",
       "    <tr>\n",
       "      <th>3</th>\n",
       "      <td>643b83b2860349e280b9210683966b8e</td>\n",
       "      <td>22</td>\n",
       "      <td>male</td>\n",
       "      <td>B</td>\n",
       "      <td>1</td>\n",
       "      <td>2</td>\n",
       "      <td>0</td>\n",
       "      <td>0</td>\n",
       "      <td>0</td>\n",
       "    </tr>\n",
       "    <tr>\n",
       "      <th>4</th>\n",
       "      <td>ec08a7f8c2ce4940b4c6f639fb92ac8e</td>\n",
       "      <td>20</td>\n",
       "      <td>female</td>\n",
       "      <td>C</td>\n",
       "      <td>2</td>\n",
       "      <td>0</td>\n",
       "      <td>0</td>\n",
       "      <td>0</td>\n",
       "      <td>0</td>\n",
       "    </tr>\n",
       "  </tbody>\n",
       "</table>\n",
       "</div>"
      ],
      "text/plain": [
       "                          driver_id  age     sex car_class  \\\n",
       "0  ab3e7f31ace042fd89da60825c89ea6d   29    male         B   \n",
       "1  3be9de3ea320458889bc917524795aa0   25  female         B   \n",
       "2  4b520b87244c4e8db7f06d452c696786   24  female         D   \n",
       "3  643b83b2860349e280b9210683966b8e   22    male         B   \n",
       "4  ec08a7f8c2ce4940b4c6f639fb92ac8e   20  female         C   \n",
       "\n",
       "   driving_experience  speeding_penalties  parking_penalties  \\\n",
       "0                   2                   0                  0   \n",
       "1                   1                   2                  0   \n",
       "2                   2                   1                  0   \n",
       "3                   1                   2                  0   \n",
       "4                   2                   0                  0   \n",
       "\n",
       "   total_car_accident  has_car_accident  \n",
       "0                   0                 0  \n",
       "1                   0                 0  \n",
       "2                   0                 0  \n",
       "3                   0                 0  \n",
       "4                   0                 0  "
      ]
     },
     "execution_count": 6,
     "metadata": {},
     "output_type": "execute_result"
    }
   ],
   "source": [
    "df.head()"
   ]
  },
  {
   "cell_type": "code",
   "execution_count": 7,
   "id": "003f7991-a4aa-4200-97f9-cc23f5774da3",
   "metadata": {},
   "outputs": [
    {
     "data": {
      "text/plain": [
       "array([[<AxesSubplot: title={'center': 'age'}>,\n",
       "        <AxesSubplot: title={'center': 'driving_experience'}>],\n",
       "       [<AxesSubplot: title={'center': 'speeding_penalties'}>,\n",
       "        <AxesSubplot: title={'center': 'parking_penalties'}>],\n",
       "       [<AxesSubplot: title={'center': 'total_car_accident'}>,\n",
       "        <AxesSubplot: title={'center': 'has_car_accident'}>]],\n",
       "      dtype=object)"
      ]
     },
     "execution_count": 7,
     "metadata": {},
     "output_type": "execute_result"
    },
    {
     "data": {
      "image/png": "[encoded data removed]",
      "text/plain": [
       "<Figure size 640x480 with 6 Axes>"
      ]
     },
     "metadata": {},
     "output_type": "display_data"
    }
   ],
   "source": [
    "df.hist(bins=10)"
   ]
  },
  {
   "cell_type": "code",
   "execution_count": 8,
   "id": "369d08c6-53a2-4ab7-9136-1006f5663d29",
   "metadata": {},
   "outputs": [
    {
     "data": {
      "text/plain": [
       "<ActiveRun: >"
      ]
     },
     "execution_count": 8,
     "metadata": {},
     "output_type": "execute_result"
    }
   ],
   "source": [
    "mlflow.start_run()"
   ]
  },
  {
   "cell_type": "code",
   "execution_count": 9,
   "id": "a73b540d-ad57-44a3-9a30-a71359449cd1",
   "metadata": {},
   "outputs": [],
   "source": [
    "FEATURES = ['age', 'sex', 'car_class', 'driving_experience', 'speeding_penalties', 'parking_penalties', 'total_car_accident']\n",
    "CATEGORIAL_FEATURES = ['sex', 'car_class']\n",
    "TARGET = 'has_car_accident'"
   ]
  },
  {
   "cell_type": "code",
   "execution_count": 10,
   "id": "56e4aef2-c3cd-4fcb-a405-278b5a1ca278",
   "metadata": {},
   "outputs": [],
   "source": [
    "mlflow.log_param('features', FEATURES)\n",
    "mlflow.log_param('categorial features', CATEGORIAL_FEATURES)\n",
    "mlflow.log_param('target', TARGET)"
   ]
  },
  {
   "cell_type": "code",
   "execution_count": 11,
   "id": "a221cebc-8eec-4f3c-9703-23c68628da46",
   "metadata": {},
   "outputs": [],
   "source": [
    "train_df = df[FEATURES]\n",
    "targets = df[[TARGET]]"
   ]
  },
  {
   "cell_type": "code",
   "execution_count": 12,
   "id": "2eb2fb80-531c-4982-9df3-513652210e94",
   "metadata": {},
   "outputs": [],
   "source": [
    " X_train, X_test, y_train, y_test = train_test_split(train_df, targets, test_size=0.33, random_state=42)"
   ]
  },
  {
   "cell_type": "code",
   "execution_count": 13,
   "id": "ddf4b8ce-9ff6-40b9-8c7e-1743b88f090e",
   "metadata": {},
   "outputs": [
    {
     "name": "stderr",
     "output_type": "stream",
     "text": [
      "/home/jupyter-admin/.local/lib/python3.9/site-packages/catboost/core.py:1419: FutureWarning: iteritems is deprecated and will be removed in a future version. Use .items instead.\n",
      "  self._init_pool(data, label, cat_features, text_features, embedding_features, embedding_features_data, pairs, weight,\n"
     ]
    }
   ],
   "source": [
    "train_pool = Pool(X_train, y_train, cat_features = CATEGORIAL_FEATURES, feature_names=FEATURES)\n",
    "test_pool = Pool(X_test, cat_features = CATEGORIAL_FEATURES)"
   ]
  },
  {
   "cell_type": "markdown",
   "id": "74c04648-4f1c-4f4d-964d-c5df7a30221d",
   "metadata": {
    "tags": []
   },
   "source": [
    "### Обучение, тюнинг и трекинг"
   ]
  },
  {
   "cell_type": "code",
   "execution_count": 14,
   "id": "b178286c-0b17-4c3e-8e17-f81a23e50901",
   "metadata": {},
   "outputs": [],
   "source": [
    "model = CatBoostClassifier(iterations=10,\n",
    "                           eval_metric='F1',\n",
    "                           random_seed=17,\n",
    "                           train_dir = \"fit_track\",\n",
    "                           silent=False)"
   ]
  },
  {
   "cell_type": "code",
   "execution_count": 15,
   "id": "c8f819ef-3ffb-4921-8d33-7e9b2bedf5ad",
   "metadata": {},
   "outputs": [],
   "source": [
    "mlflow.log_param('model_type', model.__class__)\n",
    "mlflow.set_tags(tags = {\"engineering\": \"ML Platform\",\n",
    "                       \"framework\": \"Catboost\"})"
   ]
  },
  {
   "cell_type": "code",
   "execution_count": 16,
   "id": "3afb782f-1d35-48ed-986d-222fefb4f250",
   "metadata": {},
   "outputs": [],
   "source": [
    "grid = {'learning_rate': [0.03, 0.1],\n",
    "        'depth': [4, 6, 10],\n",
    "        'l2_leaf_reg': [1, 3, 5, 7, 9]}"
   ]
  },
  {
   "cell_type": "code",
   "execution_count": 17,
   "id": "5815a521-5a15-4ea6-bcb1-765f7d4d32e8",
   "metadata": {},
   "outputs": [],
   "source": [
    "mlflow.log_param('param_grid', grid)"
   ]
  },
  {
   "cell_type": "code",
   "execution_count": 18,
   "id": "508c85c6-481d-47ef-822e-bd4c2dcaec0f",
   "metadata": {},
   "outputs": [
    {
     "data": {
      "application/vnd.jupyter.widget-view+json": {
       "model_id": "2dc8e2127db94ada959d5da90a00ab6c",
       "version_major": 2,
       "version_minor": 0
      },
      "text/plain": [
       "MetricVisualizer(layout=Layout(align_self='stretch', height='500px'))"
      ]
     },
     "metadata": {},
     "output_type": "display_data"
    },
    {
     "name": "stdout",
     "output_type": "stream",
     "text": [
      "0:\tlearn: 0.9047689\ttest: 0.9038852\tbest: 0.9038852 (0)\ttotal: 105ms\tremaining: 944ms\n",
      "1:\tlearn: 0.9047689\ttest: 0.9038852\tbest: 0.9038852 (0)\ttotal: 148ms\tremaining: 591ms\n",
      "2:\tlearn: 0.9047689\ttest: 0.9038852\tbest: 0.9038852 (0)\ttotal: 177ms\tremaining: 414ms\n",
      "3:\tlearn: 0.9047689\ttest: 0.9038852\tbest: 0.9038852 (0)\ttotal: 217ms\tremaining: 326ms\n",
      "4:\tlearn: 0.9047689\ttest: 0.9038852\tbest: 0.9038852 (0)\ttotal: 257ms\tremaining: 257ms\n",
      "5:\tlearn: 0.9047689\ttest: 0.9038852\tbest: 0.9038852 (0)\ttotal: 293ms\tremaining: 195ms\n",
      "6:\tlearn: 0.9047689\ttest: 0.9038852\tbest: 0.9038852 (0)\ttotal: 321ms\tremaining: 138ms\n",
      "7:\tlearn: 0.9047689\ttest: 0.9038852\tbest: 0.9038852 (0)\ttotal: 360ms\tremaining: 89.9ms\n",
      "8:\tlearn: 0.9047689\ttest: 0.9038852\tbest: 0.9038852 (0)\ttotal: 395ms\tremaining: 43.9ms\n",
      "9:\tlearn: 0.9047689\ttest: 0.9038852\tbest: 0.9038852 (0)\ttotal: 430ms\tremaining: 0us\n",
      "\n",
      "bestTest = 0.9038852496\n",
      "bestIteration = 0\n",
      "\n",
      "0:\tloss: 0.9038852\tbest: 0.9038852 (0)\ttotal: 517ms\tremaining: 15s\n",
      "0:\tlearn: 0.9047689\ttest: 0.9038852\tbest: 0.9038852 (0)\ttotal: 31ms\tremaining: 279ms\n",
      "1:\tlearn: 0.9047689\ttest: 0.9038852\tbest: 0.9038852 (0)\ttotal: 65.6ms\tremaining: 263ms\n",
      "2:\tlearn: 0.9047689\ttest: 0.9038852\tbest: 0.9038852 (0)\ttotal: 100ms\tremaining: 234ms\n",
      "3:\tlearn: 0.9047689\ttest: 0.9038852\tbest: 0.9038852 (0)\ttotal: 131ms\tremaining: 197ms\n",
      "4:\tlearn: 0.9047689\ttest: 0.9038852\tbest: 0.9038852 (0)\ttotal: 158ms\tremaining: 158ms\n",
      "5:\tlearn: 0.9047689\ttest: 0.9038852\tbest: 0.9038852 (0)\ttotal: 188ms\tremaining: 125ms\n",
      "6:\tlearn: 0.9047689\ttest: 0.9038852\tbest: 0.9038852 (0)\ttotal: 216ms\tremaining: 92.8ms\n",
      "7:\tlearn: 0.9047689\ttest: 0.9038852\tbest: 0.9038852 (0)\ttotal: 245ms\tremaining: 61.3ms\n",
      "8:\tlearn: 0.9047689\ttest: 0.9038852\tbest: 0.9038852 (0)\ttotal: 271ms\tremaining: 30.1ms\n",
      "9:\tlearn: 0.9047689\ttest: 0.9038852\tbest: 0.9038852 (0)\ttotal: 308ms\tremaining: 0us\n",
      "\n",
      "bestTest = 0.9038852496\n",
      "bestIteration = 0\n",
      "\n",
      "1:\tloss: 0.9038852\tbest: 0.9038852 (0)\ttotal: 843ms\tremaining: 11.8s\n",
      "0:\tlearn: 0.9047689\ttest: 0.9038852\tbest: 0.9038852 (0)\ttotal: 32.2ms\tremaining: 290ms\n",
      "1:\tlearn: 0.9047689\ttest: 0.9038852\tbest: 0.9038852 (0)\ttotal: 62.2ms\tremaining: 249ms\n",
      "2:\tlearn: 0.9047689\ttest: 0.9038852\tbest: 0.9038852 (0)\ttotal: 95.9ms\tremaining: 224ms\n",
      "3:\tlearn: 0.9047689\ttest: 0.9038852\tbest: 0.9038852 (0)\ttotal: 124ms\tremaining: 187ms\n",
      "4:\tlearn: 0.9047689\ttest: 0.9038852\tbest: 0.9038852 (0)\ttotal: 154ms\tremaining: 154ms\n",
      "5:\tlearn: 0.9047689\ttest: 0.9038852\tbest: 0.9038852 (0)\ttotal: 181ms\tremaining: 121ms\n",
      "6:\tlearn: 0.9047689\ttest: 0.9038852\tbest: 0.9038852 (0)\ttotal: 219ms\tremaining: 94.1ms\n",
      "7:\tlearn: 0.9047689\ttest: 0.9038852\tbest: 0.9038852 (0)\ttotal: 253ms\tremaining: 63.3ms\n",
      "8:\tlearn: 0.9047689\ttest: 0.9038852\tbest: 0.9038852 (0)\ttotal: 285ms\tremaining: 31.6ms\n",
      "9:\tlearn: 0.9047689\ttest: 0.9038852\tbest: 0.9038852 (0)\ttotal: 310ms\tremaining: 0us\n",
      "\n",
      "bestTest = 0.9038852496\n",
      "bestIteration = 0\n",
      "\n",
      "2:\tloss: 0.9038852\tbest: 0.9038852 (0)\ttotal: 1.17s\tremaining: 10.5s\n",
      "0:\tlearn: 0.9047689\ttest: 0.9038852\tbest: 0.9038852 (0)\ttotal: 30.6ms\tremaining: 276ms\n",
      "1:\tlearn: 0.9047689\ttest: 0.9038852\tbest: 0.9038852 (0)\ttotal: 58.9ms\tremaining: 236ms\n",
      "2:\tlearn: 0.9047689\ttest: 0.9038852\tbest: 0.9038852 (0)\ttotal: 83.9ms\tremaining: 196ms\n",
      "3:\tlearn: 0.9047689\ttest: 0.9038852\tbest: 0.9038852 (0)\ttotal: 116ms\tremaining: 175ms\n",
      "4:\tlearn: 0.9047689\ttest: 0.9038852\tbest: 0.9038852 (0)\ttotal: 157ms\tremaining: 157ms\n",
      "5:\tlearn: 0.9047689\ttest: 0.9038852\tbest: 0.9038852 (0)\ttotal: 191ms\tremaining: 128ms\n",
      "6:\tlearn: 0.9047689\ttest: 0.9038852\tbest: 0.9038852 (0)\ttotal: 230ms\tremaining: 98.8ms\n",
      "7:\tlearn: 0.9047689\ttest: 0.9038852\tbest: 0.9038852 (0)\ttotal: 264ms\tremaining: 65.9ms\n",
      "8:\tlearn: 0.9047689\ttest: 0.9038852\tbest: 0.9038852 (0)\ttotal: 293ms\tremaining: 32.5ms\n",
      "9:\tlearn: 0.9047689\ttest: 0.9038852\tbest: 0.9038852 (0)\ttotal: 323ms\tremaining: 0us\n",
      "\n",
      "bestTest = 0.9038852496\n",
      "bestIteration = 0\n",
      "\n",
      "3:\tloss: 0.9038852\tbest: 0.9038852 (0)\ttotal: 1.51s\tremaining: 9.82s\n",
      "0:\tlearn: 0.9047689\ttest: 0.9038852\tbest: 0.9038852 (0)\ttotal: 40.4ms\tremaining: 363ms\n",
      "1:\tlearn: 0.9047689\ttest: 0.9038852\tbest: 0.9038852 (0)\ttotal: 74.5ms\tremaining: 298ms\n",
      "2:\tlearn: 0.9047689\ttest: 0.9038852\tbest: 0.9038852 (0)\ttotal: 109ms\tremaining: 254ms\n",
      "3:\tlearn: 0.9047689\ttest: 0.9038852\tbest: 0.9038852 (0)\ttotal: 132ms\tremaining: 198ms\n",
      "4:\tlearn: 0.9047689\ttest: 0.9038852\tbest: 0.9038852 (0)\ttotal: 160ms\tremaining: 160ms\n",
      "5:\tlearn: 0.9047689\ttest: 0.9038852\tbest: 0.9038852 (0)\ttotal: 195ms\tremaining: 130ms\n",
      "6:\tlearn: 0.9047689\ttest: 0.9038852\tbest: 0.9038852 (0)\ttotal: 221ms\tremaining: 94.6ms\n",
      "7:\tlearn: 0.9047689\ttest: 0.9038852\tbest: 0.9038852 (0)\ttotal: 245ms\tremaining: 61.3ms\n",
      "8:\tlearn: 0.9047689\ttest: 0.9038852\tbest: 0.9038852 (0)\ttotal: 274ms\tremaining: 30.5ms\n",
      "9:\tlearn: 0.9047689\ttest: 0.9038852\tbest: 0.9038852 (0)\ttotal: 298ms\tremaining: 0us\n",
      "\n",
      "bestTest = 0.9038852496\n",
      "bestIteration = 0\n",
      "\n",
      "4:\tloss: 0.9038852\tbest: 0.9038852 (0)\ttotal: 1.82s\tremaining: 9.13s\n",
      "0:\tlearn: 0.9047689\ttest: 0.9038852\tbest: 0.9038852 (0)\ttotal: 25.6ms\tremaining: 231ms\n",
      "1:\tlearn: 0.9047689\ttest: 0.9038852\tbest: 0.9038852 (0)\ttotal: 58.3ms\tremaining: 233ms\n",
      "2:\tlearn: 0.9047689\ttest: 0.9038852\tbest: 0.9038852 (0)\ttotal: 100ms\tremaining: 234ms\n",
      "3:\tlearn: 0.9047689\ttest: 0.9038852\tbest: 0.9038852 (0)\ttotal: 133ms\tremaining: 199ms\n",
      "4:\tlearn: 0.9047689\ttest: 0.9038852\tbest: 0.9038852 (0)\ttotal: 165ms\tremaining: 165ms\n",
      "5:\tlearn: 0.9047689\ttest: 0.9038852\tbest: 0.9038852 (0)\ttotal: 193ms\tremaining: 129ms\n",
      "6:\tlearn: 0.9047689\ttest: 0.9038852\tbest: 0.9038852 (0)\ttotal: 225ms\tremaining: 96.6ms\n",
      "7:\tlearn: 0.9047689\ttest: 0.9038852\tbest: 0.9038852 (0)\ttotal: 263ms\tremaining: 65.7ms\n",
      "8:\tlearn: 0.9047689\ttest: 0.9038852\tbest: 0.9038852 (0)\ttotal: 286ms\tremaining: 31.8ms\n",
      "9:\tlearn: 0.9047689\ttest: 0.9038852\tbest: 0.9038852 (0)\ttotal: 321ms\tremaining: 0us\n",
      "\n",
      "bestTest = 0.9038852496\n",
      "bestIteration = 0\n",
      "\n",
      "5:\tloss: 0.9038852\tbest: 0.9038852 (0)\ttotal: 2.16s\tremaining: 8.66s\n",
      "0:\tlearn: 0.9047689\ttest: 0.9038852\tbest: 0.9038852 (0)\ttotal: 31.9ms\tremaining: 287ms\n",
      "1:\tlearn: 0.9047689\ttest: 0.9038852\tbest: 0.9038852 (0)\ttotal: 57.5ms\tremaining: 230ms\n",
      "2:\tlearn: 0.9047689\ttest: 0.9038852\tbest: 0.9038852 (0)\ttotal: 84.7ms\tremaining: 198ms\n",
      "3:\tlearn: 0.9047689\ttest: 0.9038852\tbest: 0.9038852 (0)\ttotal: 107ms\tremaining: 160ms\n",
      "4:\tlearn: 0.9047689\ttest: 0.9038852\tbest: 0.9038852 (0)\ttotal: 134ms\tremaining: 134ms\n",
      "5:\tlearn: 0.9047689\ttest: 0.9038852\tbest: 0.9038852 (0)\ttotal: 161ms\tremaining: 107ms\n",
      "6:\tlearn: 0.9047689\ttest: 0.9038852\tbest: 0.9038852 (0)\ttotal: 192ms\tremaining: 82.1ms\n",
      "7:\tlearn: 0.9047689\ttest: 0.9038852\tbest: 0.9038852 (0)\ttotal: 222ms\tremaining: 55.5ms\n",
      "8:\tlearn: 0.9047689\ttest: 0.9038852\tbest: 0.9038852 (0)\ttotal: 256ms\tremaining: 28.5ms\n",
      "9:\tlearn: 0.9047689\ttest: 0.9038852\tbest: 0.9038852 (0)\ttotal: 293ms\tremaining: 0us\n",
      "\n",
      "bestTest = 0.9038852496\n",
      "bestIteration = 0\n",
      "\n",
      "6:\tloss: 0.9038852\tbest: 0.9038852 (0)\ttotal: 2.48s\tremaining: 8.13s\n",
      "0:\tlearn: 0.9047689\ttest: 0.9038852\tbest: 0.9038852 (0)\ttotal: 33.3ms\tremaining: 300ms\n",
      "1:\tlearn: 0.9047689\ttest: 0.9038852\tbest: 0.9038852 (0)\ttotal: 56.9ms\tremaining: 227ms\n",
      "2:\tlearn: 0.9047689\ttest: 0.9038852\tbest: 0.9038852 (0)\ttotal: 85.9ms\tremaining: 200ms\n",
      "3:\tlearn: 0.9047689\ttest: 0.9038852\tbest: 0.9038852 (0)\ttotal: 116ms\tremaining: 174ms\n",
      "4:\tlearn: 0.9047689\ttest: 0.9038852\tbest: 0.9038852 (0)\ttotal: 145ms\tremaining: 145ms\n",
      "5:\tlearn: 0.9047689\ttest: 0.9038852\tbest: 0.9038852 (0)\ttotal: 177ms\tremaining: 118ms\n",
      "6:\tlearn: 0.9047689\ttest: 0.9038852\tbest: 0.9038852 (0)\ttotal: 213ms\tremaining: 91.2ms\n",
      "7:\tlearn: 0.9047689\ttest: 0.9038852\tbest: 0.9038852 (0)\ttotal: 242ms\tremaining: 60.6ms\n",
      "8:\tlearn: 0.9047689\ttest: 0.9038852\tbest: 0.9038852 (0)\ttotal: 273ms\tremaining: 30.4ms\n",
      "9:\tlearn: 0.9047689\ttest: 0.9038852\tbest: 0.9038852 (0)\ttotal: 310ms\tremaining: 0us\n",
      "\n",
      "bestTest = 0.9038852496\n",
      "bestIteration = 0\n",
      "\n",
      "7:\tloss: 0.9038852\tbest: 0.9038852 (0)\ttotal: 2.8s\tremaining: 7.7s\n",
      "0:\tlearn: 0.9047689\ttest: 0.9038852\tbest: 0.9038852 (0)\ttotal: 27.9ms\tremaining: 251ms\n",
      "1:\tlearn: 0.9047689\ttest: 0.9038852\tbest: 0.9038852 (0)\ttotal: 57.4ms\tremaining: 230ms\n",
      "2:\tlearn: 0.9047689\ttest: 0.9038852\tbest: 0.9038852 (0)\ttotal: 86.9ms\tremaining: 203ms\n",
      "3:\tlearn: 0.9047689\ttest: 0.9038852\tbest: 0.9038852 (0)\ttotal: 119ms\tremaining: 178ms\n",
      "4:\tlearn: 0.9047689\ttest: 0.9038852\tbest: 0.9038852 (0)\ttotal: 147ms\tremaining: 147ms\n",
      "5:\tlearn: 0.9047689\ttest: 0.9038852\tbest: 0.9038852 (0)\ttotal: 176ms\tremaining: 117ms\n",
      "6:\tlearn: 0.9047689\ttest: 0.9038852\tbest: 0.9038852 (0)\ttotal: 205ms\tremaining: 87.8ms\n",
      "7:\tlearn: 0.9047689\ttest: 0.9038852\tbest: 0.9038852 (0)\ttotal: 236ms\tremaining: 58.9ms\n",
      "8:\tlearn: 0.9047689\ttest: 0.9038852\tbest: 0.9038852 (0)\ttotal: 262ms\tremaining: 29.1ms\n",
      "9:\tlearn: 0.9047689\ttest: 0.9038852\tbest: 0.9038852 (0)\ttotal: 287ms\tremaining: 0us\n",
      "\n",
      "bestTest = 0.9038852496\n",
      "bestIteration = 0\n",
      "\n",
      "8:\tloss: 0.9038852\tbest: 0.9038852 (0)\ttotal: 3.11s\tremaining: 7.25s\n",
      "0:\tlearn: 0.9047689\ttest: 0.9038852\tbest: 0.9038852 (0)\ttotal: 32.7ms\tremaining: 294ms\n",
      "1:\tlearn: 0.9047689\ttest: 0.9038852\tbest: 0.9038852 (0)\ttotal: 67.4ms\tremaining: 270ms\n",
      "2:\tlearn: 0.9047689\ttest: 0.9038852\tbest: 0.9038852 (0)\ttotal: 106ms\tremaining: 247ms\n",
      "3:\tlearn: 0.9047689\ttest: 0.9038852\tbest: 0.9038852 (0)\ttotal: 139ms\tremaining: 208ms\n",
      "4:\tlearn: 0.9047689\ttest: 0.9038852\tbest: 0.9038852 (0)\ttotal: 164ms\tremaining: 164ms\n",
      "5:\tlearn: 0.9047689\ttest: 0.9038852\tbest: 0.9038852 (0)\ttotal: 193ms\tremaining: 128ms\n",
      "6:\tlearn: 0.9047689\ttest: 0.9038852\tbest: 0.9038852 (0)\ttotal: 219ms\tremaining: 93.8ms\n",
      "7:\tlearn: 0.9047689\ttest: 0.9038852\tbest: 0.9038852 (0)\ttotal: 250ms\tremaining: 62.4ms\n",
      "8:\tlearn: 0.9047689\ttest: 0.9038852\tbest: 0.9038852 (0)\ttotal: 276ms\tremaining: 30.7ms\n",
      "9:\tlearn: 0.9047689\ttest: 0.9038852\tbest: 0.9038852 (0)\ttotal: 311ms\tremaining: 0us\n",
      "\n",
      "bestTest = 0.9038852496\n",
      "bestIteration = 0\n",
      "\n",
      "9:\tloss: 0.9038852\tbest: 0.9038852 (0)\ttotal: 3.44s\tremaining: 6.88s\n",
      "0:\tlearn: 0.9047689\ttest: 0.9038852\tbest: 0.9038852 (0)\ttotal: 37.9ms\tremaining: 341ms\n",
      "1:\tlearn: 0.9047689\ttest: 0.9038852\tbest: 0.9038852 (0)\ttotal: 72.5ms\tremaining: 290ms\n",
      "2:\tlearn: 0.9047689\ttest: 0.9038852\tbest: 0.9038852 (0)\ttotal: 109ms\tremaining: 254ms\n",
      "3:\tlearn: 0.9047689\ttest: 0.9038852\tbest: 0.9038852 (0)\ttotal: 144ms\tremaining: 215ms\n",
      "4:\tlearn: 0.9047689\ttest: 0.9038852\tbest: 0.9038852 (0)\ttotal: 173ms\tremaining: 173ms\n",
      "5:\tlearn: 0.9047689\ttest: 0.9038852\tbest: 0.9038852 (0)\ttotal: 209ms\tremaining: 140ms\n",
      "6:\tlearn: 0.9047689\ttest: 0.9038852\tbest: 0.9038852 (0)\ttotal: 244ms\tremaining: 105ms\n",
      "7:\tlearn: 0.9047689\ttest: 0.9038852\tbest: 0.9038852 (0)\ttotal: 276ms\tremaining: 69.1ms\n",
      "8:\tlearn: 0.9047689\ttest: 0.9038852\tbest: 0.9038852 (0)\ttotal: 303ms\tremaining: 33.7ms\n",
      "9:\tlearn: 0.9047689\ttest: 0.9038852\tbest: 0.9038852 (0)\ttotal: 332ms\tremaining: 0us\n",
      "\n",
      "bestTest = 0.9038852496\n",
      "bestIteration = 0\n",
      "\n",
      "10:\tloss: 0.9038852\tbest: 0.9038852 (0)\ttotal: 3.79s\tremaining: 6.54s\n",
      "0:\tlearn: 0.9047689\ttest: 0.9038852\tbest: 0.9038852 (0)\ttotal: 34.6ms\tremaining: 311ms\n",
      "1:\tlearn: 0.9047689\ttest: 0.9038852\tbest: 0.9038852 (0)\ttotal: 73.6ms\tremaining: 294ms\n",
      "2:\tlearn: 0.9047689\ttest: 0.9038852\tbest: 0.9038852 (0)\ttotal: 111ms\tremaining: 259ms\n",
      "3:\tlearn: 0.9047689\ttest: 0.9038852\tbest: 0.9038852 (0)\ttotal: 150ms\tremaining: 225ms\n",
      "4:\tlearn: 0.9047689\ttest: 0.9038852\tbest: 0.9038852 (0)\ttotal: 191ms\tremaining: 191ms\n",
      "5:\tlearn: 0.9047689\ttest: 0.9038852\tbest: 0.9038852 (0)\ttotal: 238ms\tremaining: 159ms\n",
      "6:\tlearn: 0.9047689\ttest: 0.9038852\tbest: 0.9038852 (0)\ttotal: 272ms\tremaining: 117ms\n",
      "7:\tlearn: 0.9047689\ttest: 0.9038852\tbest: 0.9038852 (0)\ttotal: 301ms\tremaining: 75.3ms\n",
      "8:\tlearn: 0.9053327\ttest: 0.9047727\tbest: 0.9047727 (8)\ttotal: 335ms\tremaining: 37.2ms\n",
      "9:\tlearn: 0.9051228\ttest: 0.9046182\tbest: 0.9047727 (8)\ttotal: 366ms\tremaining: 0us\n",
      "\n",
      "bestTest = 0.9047726503\n",
      "bestIteration = 8\n",
      "\n",
      "11:\tloss: 0.9047727\tbest: 0.9047727 (11)\ttotal: 4.17s\tremaining: 6.26s\n",
      "0:\tlearn: 0.9047689\ttest: 0.9038852\tbest: 0.9038852 (0)\ttotal: 33.5ms\tremaining: 301ms\n",
      "1:\tlearn: 0.9047689\ttest: 0.9038852\tbest: 0.9038852 (0)\ttotal: 69.5ms\tremaining: 278ms\n",
      "2:\tlearn: 0.9047689\ttest: 0.9038852\tbest: 0.9038852 (0)\ttotal: 111ms\tremaining: 258ms\n",
      "3:\tlearn: 0.9047689\ttest: 0.9038852\tbest: 0.9038852 (0)\ttotal: 151ms\tremaining: 226ms\n",
      "4:\tlearn: 0.9047689\ttest: 0.9038852\tbest: 0.9038852 (0)\ttotal: 186ms\tremaining: 186ms\n",
      "5:\tlearn: 0.9047689\ttest: 0.9038852\tbest: 0.9038852 (0)\ttotal: 215ms\tremaining: 143ms\n",
      "6:\tlearn: 0.9047689\ttest: 0.9038852\tbest: 0.9038852 (0)\ttotal: 244ms\tremaining: 105ms\n",
      "7:\tlearn: 0.9047689\ttest: 0.9038852\tbest: 0.9038852 (0)\ttotal: 277ms\tremaining: 69.2ms\n",
      "8:\tlearn: 0.9047689\ttest: 0.9038852\tbest: 0.9038852 (0)\ttotal: 305ms\tremaining: 33.9ms\n",
      "9:\tlearn: 0.9047689\ttest: 0.9038852\tbest: 0.9038852 (0)\ttotal: 330ms\tremaining: 0us\n",
      "\n",
      "bestTest = 0.9038852496\n",
      "bestIteration = 0\n",
      "\n",
      "12:\tloss: 0.9038852\tbest: 0.9047727 (11)\ttotal: 4.52s\tremaining: 5.91s\n",
      "0:\tlearn: 0.9047689\ttest: 0.9038852\tbest: 0.9038852 (0)\ttotal: 37ms\tremaining: 333ms\n",
      "1:\tlearn: 0.9047689\ttest: 0.9038852\tbest: 0.9038852 (0)\ttotal: 70.8ms\tremaining: 283ms\n",
      "2:\tlearn: 0.9047689\ttest: 0.9038852\tbest: 0.9038852 (0)\ttotal: 102ms\tremaining: 238ms\n",
      "3:\tlearn: 0.9047689\ttest: 0.9038852\tbest: 0.9038852 (0)\ttotal: 131ms\tremaining: 197ms\n",
      "4:\tlearn: 0.9047689\ttest: 0.9038852\tbest: 0.9038852 (0)\ttotal: 173ms\tremaining: 173ms\n",
      "5:\tlearn: 0.9047689\ttest: 0.9038852\tbest: 0.9038852 (0)\ttotal: 203ms\tremaining: 136ms\n",
      "6:\tlearn: 0.9047689\ttest: 0.9038852\tbest: 0.9038852 (0)\ttotal: 241ms\tremaining: 103ms\n",
      "7:\tlearn: 0.9047689\ttest: 0.9038852\tbest: 0.9038852 (0)\ttotal: 271ms\tremaining: 67.8ms\n",
      "8:\tlearn: 0.9047689\ttest: 0.9038852\tbest: 0.9038852 (0)\ttotal: 306ms\tremaining: 34ms\n",
      "9:\tlearn: 0.9051228\ttest: 0.9046182\tbest: 0.9046182 (9)\ttotal: 344ms\tremaining: 0us\n",
      "\n",
      "bestTest = 0.9046181623\n",
      "bestIteration = 9\n",
      "\n",
      "13:\tloss: 0.9046182\tbest: 0.9047727 (11)\ttotal: 4.89s\tremaining: 5.58s\n",
      "0:\tlearn: 0.9047689\ttest: 0.9038852\tbest: 0.9038852 (0)\ttotal: 37.2ms\tremaining: 335ms\n",
      "1:\tlearn: 0.9047689\ttest: 0.9038852\tbest: 0.9038852 (0)\ttotal: 69.5ms\tremaining: 278ms\n",
      "2:\tlearn: 0.9047689\ttest: 0.9038852\tbest: 0.9038852 (0)\ttotal: 106ms\tremaining: 247ms\n",
      "3:\tlearn: 0.9047689\ttest: 0.9038852\tbest: 0.9038852 (0)\ttotal: 147ms\tremaining: 220ms\n",
      "4:\tlearn: 0.9047689\ttest: 0.9038852\tbest: 0.9038852 (0)\ttotal: 179ms\tremaining: 179ms\n",
      "5:\tlearn: 0.9047689\ttest: 0.9038852\tbest: 0.9038852 (0)\ttotal: 210ms\tremaining: 140ms\n",
      "6:\tlearn: 0.9047689\ttest: 0.9038852\tbest: 0.9038852 (0)\ttotal: 251ms\tremaining: 108ms\n",
      "7:\tlearn: 0.9047689\ttest: 0.9038852\tbest: 0.9038852 (0)\ttotal: 288ms\tremaining: 71.9ms\n",
      "8:\tlearn: 0.9047689\ttest: 0.9038852\tbest: 0.9038852 (0)\ttotal: 326ms\tremaining: 36.3ms\n",
      "9:\tlearn: 0.9047689\ttest: 0.9038852\tbest: 0.9038852 (0)\ttotal: 362ms\tremaining: 0us\n",
      "\n",
      "bestTest = 0.9038852496\n",
      "bestIteration = 0\n",
      "\n",
      "14:\tloss: 0.9038852\tbest: 0.9047727 (11)\ttotal: 5.27s\tremaining: 5.27s\n",
      "0:\tlearn: 0.9047689\ttest: 0.9038852\tbest: 0.9038852 (0)\ttotal: 41.9ms\tremaining: 377ms\n",
      "1:\tlearn: 0.9047689\ttest: 0.9038852\tbest: 0.9038852 (0)\ttotal: 79.1ms\tremaining: 316ms\n",
      "2:\tlearn: 0.9047689\ttest: 0.9038852\tbest: 0.9038852 (0)\ttotal: 109ms\tremaining: 255ms\n",
      "3:\tlearn: 0.9047689\ttest: 0.9038852\tbest: 0.9038852 (0)\ttotal: 155ms\tremaining: 232ms\n",
      "4:\tlearn: 0.9047689\ttest: 0.9038852\tbest: 0.9038852 (0)\ttotal: 196ms\tremaining: 196ms\n",
      "5:\tlearn: 0.9047689\ttest: 0.9038852\tbest: 0.9038852 (0)\ttotal: 241ms\tremaining: 160ms\n",
      "6:\tlearn: 0.9047689\ttest: 0.9038852\tbest: 0.9038852 (0)\ttotal: 272ms\tremaining: 117ms\n",
      "7:\tlearn: 0.9053327\ttest: 0.9047727\tbest: 0.9047727 (7)\ttotal: 314ms\tremaining: 78.5ms\n",
      "8:\tlearn: 0.9063603\ttest: 0.9060951\tbest: 0.9060951 (8)\ttotal: 348ms\tremaining: 38.6ms\n",
      "9:\tlearn: 0.9053327\ttest: 0.9047727\tbest: 0.9060951 (8)\ttotal: 381ms\tremaining: 0us\n",
      "\n",
      "bestTest = 0.9060950879\n",
      "bestIteration = 8\n",
      "\n",
      "15:\tloss: 0.9060951\tbest: 0.9060951 (15)\ttotal: 5.67s\tremaining: 4.96s\n",
      "0:\tlearn: 0.9047689\ttest: 0.9038852\tbest: 0.9038852 (0)\ttotal: 37.4ms\tremaining: 336ms\n",
      "1:\tlearn: 0.9047689\ttest: 0.9038852\tbest: 0.9038852 (0)\ttotal: 69.3ms\tremaining: 277ms\n",
      "2:\tlearn: 0.9047689\ttest: 0.9038852\tbest: 0.9038852 (0)\ttotal: 105ms\tremaining: 244ms\n",
      "3:\tlearn: 0.9047689\ttest: 0.9038852\tbest: 0.9038852 (0)\ttotal: 144ms\tremaining: 216ms\n",
      "4:\tlearn: 0.9047689\ttest: 0.9038852\tbest: 0.9038852 (0)\ttotal: 182ms\tremaining: 182ms\n",
      "5:\tlearn: 0.9047689\ttest: 0.9038852\tbest: 0.9038852 (0)\ttotal: 220ms\tremaining: 147ms\n",
      "6:\tlearn: 0.9047689\ttest: 0.9038852\tbest: 0.9038852 (0)\ttotal: 255ms\tremaining: 109ms\n",
      "7:\tlearn: 0.9047689\ttest: 0.9038852\tbest: 0.9038852 (0)\ttotal: 290ms\tremaining: 72.5ms\n",
      "8:\tlearn: 0.9047689\ttest: 0.9038852\tbest: 0.9038852 (0)\ttotal: 326ms\tremaining: 36.2ms\n",
      "9:\tlearn: 0.9047689\ttest: 0.9038852\tbest: 0.9038852 (0)\ttotal: 359ms\tremaining: 0us\n",
      "\n",
      "bestTest = 0.9038852496\n",
      "bestIteration = 0\n",
      "\n",
      "16:\tloss: 0.9038852\tbest: 0.9060951 (15)\ttotal: 6.05s\tremaining: 4.62s\n",
      "0:\tlearn: 0.9047689\ttest: 0.9038852\tbest: 0.9038852 (0)\ttotal: 39.2ms\tremaining: 353ms\n",
      "1:\tlearn: 0.9047689\ttest: 0.9038852\tbest: 0.9038852 (0)\ttotal: 70ms\tremaining: 280ms\n",
      "2:\tlearn: 0.9047689\ttest: 0.9038852\tbest: 0.9038852 (0)\ttotal: 102ms\tremaining: 237ms\n",
      "3:\tlearn: 0.9047689\ttest: 0.9038852\tbest: 0.9038852 (0)\ttotal: 138ms\tremaining: 208ms\n",
      "4:\tlearn: 0.9047689\ttest: 0.9038852\tbest: 0.9038852 (0)\ttotal: 172ms\tremaining: 172ms\n",
      "5:\tlearn: 0.9047689\ttest: 0.9038852\tbest: 0.9038852 (0)\ttotal: 210ms\tremaining: 140ms\n",
      "6:\tlearn: 0.9047689\ttest: 0.9038852\tbest: 0.9038852 (0)\ttotal: 243ms\tremaining: 104ms\n",
      "7:\tlearn: 0.9047689\ttest: 0.9038852\tbest: 0.9038852 (0)\ttotal: 279ms\tremaining: 69.7ms\n",
      "8:\tlearn: 0.9047689\ttest: 0.9038852\tbest: 0.9038852 (0)\ttotal: 314ms\tremaining: 34.9ms\n",
      "9:\tlearn: 0.9047689\ttest: 0.9038852\tbest: 0.9038852 (0)\ttotal: 346ms\tremaining: 0us\n",
      "\n",
      "bestTest = 0.9038852496\n",
      "bestIteration = 0\n",
      "\n",
      "17:\tloss: 0.9038852\tbest: 0.9060951 (15)\ttotal: 6.41s\tremaining: 4.27s\n",
      "0:\tlearn: 0.9047689\ttest: 0.9038852\tbest: 0.9038852 (0)\ttotal: 41.2ms\tremaining: 371ms\n",
      "1:\tlearn: 0.9047689\ttest: 0.9038852\tbest: 0.9038852 (0)\ttotal: 86.9ms\tremaining: 348ms\n",
      "2:\tlearn: 0.9047689\ttest: 0.9038852\tbest: 0.9038852 (0)\ttotal: 122ms\tremaining: 284ms\n",
      "3:\tlearn: 0.9047689\ttest: 0.9038852\tbest: 0.9038852 (0)\ttotal: 152ms\tremaining: 228ms\n",
      "4:\tlearn: 0.9047689\ttest: 0.9038852\tbest: 0.9038852 (0)\ttotal: 186ms\tremaining: 186ms\n",
      "5:\tlearn: 0.9047689\ttest: 0.9038852\tbest: 0.9038852 (0)\ttotal: 226ms\tremaining: 150ms\n",
      "6:\tlearn: 0.9047689\ttest: 0.9038852\tbest: 0.9038852 (0)\ttotal: 266ms\tremaining: 114ms\n",
      "7:\tlearn: 0.9047689\ttest: 0.9038852\tbest: 0.9038852 (0)\ttotal: 303ms\tremaining: 75.6ms\n",
      "8:\tlearn: 0.9047689\ttest: 0.9038852\tbest: 0.9038852 (0)\ttotal: 342ms\tremaining: 37.9ms\n",
      "9:\tlearn: 0.9047689\ttest: 0.9038852\tbest: 0.9038852 (0)\ttotal: 372ms\tremaining: 0us\n",
      "\n",
      "bestTest = 0.9038852496\n",
      "bestIteration = 0\n",
      "\n",
      "18:\tloss: 0.9038852\tbest: 0.9060951 (15)\ttotal: 6.8s\tremaining: 3.94s\n",
      "0:\tlearn: 0.9047689\ttest: 0.9038852\tbest: 0.9038852 (0)\ttotal: 36.6ms\tremaining: 330ms\n",
      "1:\tlearn: 0.9047689\ttest: 0.9038852\tbest: 0.9038852 (0)\ttotal: 70.5ms\tremaining: 282ms\n",
      "2:\tlearn: 0.9047689\ttest: 0.9038852\tbest: 0.9038852 (0)\ttotal: 97.3ms\tremaining: 227ms\n",
      "3:\tlearn: 0.9047689\ttest: 0.9038852\tbest: 0.9038852 (0)\ttotal: 128ms\tremaining: 192ms\n",
      "4:\tlearn: 0.9047689\ttest: 0.9038852\tbest: 0.9038852 (0)\ttotal: 169ms\tremaining: 169ms\n",
      "5:\tlearn: 0.9047689\ttest: 0.9038852\tbest: 0.9038852 (0)\ttotal: 202ms\tremaining: 135ms\n",
      "6:\tlearn: 0.9047689\ttest: 0.9038852\tbest: 0.9038852 (0)\ttotal: 229ms\tremaining: 98.2ms\n",
      "7:\tlearn: 0.9047689\ttest: 0.9038852\tbest: 0.9038852 (0)\ttotal: 266ms\tremaining: 66.4ms\n",
      "8:\tlearn: 0.9047689\ttest: 0.9038852\tbest: 0.9038852 (0)\ttotal: 303ms\tremaining: 33.6ms\n",
      "9:\tlearn: 0.9047689\ttest: 0.9038852\tbest: 0.9038852 (0)\ttotal: 343ms\tremaining: 0us\n",
      "\n",
      "bestTest = 0.9038852496\n",
      "bestIteration = 0\n",
      "\n",
      "19:\tloss: 0.9038852\tbest: 0.9060951 (15)\ttotal: 7.17s\tremaining: 3.58s\n",
      "0:\tlearn: 0.9092305\ttest: 0.9095042\tbest: 0.9095042 (0)\ttotal: 43.5ms\tremaining: 392ms\n",
      "1:\tlearn: 0.9092305\ttest: 0.9095042\tbest: 0.9095042 (0)\ttotal: 90.4ms\tremaining: 362ms\n",
      "2:\tlearn: 0.9102748\ttest: 0.9105231\tbest: 0.9105231 (2)\ttotal: 139ms\tremaining: 325ms\n",
      "3:\tlearn: 0.9099240\ttest: 0.9105231\tbest: 0.9105231 (2)\ttotal: 184ms\tremaining: 277ms\n",
      "4:\tlearn: 0.9101981\ttest: 0.9106678\tbest: 0.9106678 (4)\ttotal: 238ms\tremaining: 238ms\n",
      "5:\tlearn: 0.9105587\ttest: 0.9109088\tbest: 0.9109088 (5)\ttotal: 291ms\tremaining: 194ms\n",
      "6:\tlearn: 0.9112637\ttest: 0.9117021\tbest: 0.9117021 (6)\ttotal: 355ms\tremaining: 152ms\n",
      "7:\tlearn: 0.9114532\ttest: 0.9117985\tbest: 0.9117985 (7)\ttotal: 404ms\tremaining: 101ms\n",
      "8:\tlearn: 0.9114532\ttest: 0.9117985\tbest: 0.9117985 (7)\ttotal: 447ms\tremaining: 49.7ms\n",
      "9:\tlearn: 0.9113231\ttest: 0.9116972\tbest: 0.9117985 (7)\ttotal: 496ms\tremaining: 0us\n",
      "\n",
      "bestTest = 0.9117984605\n",
      "bestIteration = 7\n",
      "\n",
      "20:\tloss: 0.9117985\tbest: 0.9117985 (20)\ttotal: 7.68s\tremaining: 3.29s\n",
      "0:\tlearn: 0.9092305\ttest: 0.9095042\tbest: 0.9095042 (0)\ttotal: 69ms\tremaining: 621ms\n",
      "1:\tlearn: 0.9092305\ttest: 0.9095042\tbest: 0.9095042 (0)\ttotal: 129ms\tremaining: 514ms\n",
      "2:\tlearn: 0.9114532\ttest: 0.9117985\tbest: 0.9117985 (2)\ttotal: 188ms\tremaining: 438ms\n",
      "3:\tlearn: 0.9103913\ttest: 0.9105281\tbest: 0.9117985 (2)\ttotal: 222ms\tremaining: 332ms\n",
      "4:\tlearn: 0.9116464\ttest: 0.9121079\tbest: 0.9121079 (4)\ttotal: 274ms\tremaining: 274ms\n",
      "5:\tlearn: 0.9115694\ttest: 0.9120725\tbest: 0.9121079 (4)\ttotal: 314ms\tremaining: 209ms\n",
      "6:\tlearn: 0.9113586\ttest: 0.9117071\tbest: 0.9121079 (4)\ttotal: 373ms\tremaining: 160ms\n",
      "7:\tlearn: 0.9115694\ttest: 0.9120725\tbest: 0.9121079 (4)\ttotal: 424ms\tremaining: 106ms\n",
      "8:\tlearn: 0.9115694\ttest: 0.9120725\tbest: 0.9121079 (4)\ttotal: 462ms\tremaining: 51.4ms\n",
      "9:\tlearn: 0.9116400\ttest: 0.9121079\tbest: 0.9121079 (4)\ttotal: 528ms\tremaining: 0us\n",
      "\n",
      "bestTest = 0.9121078994\n",
      "bestIteration = 4\n",
      "\n",
      "21:\tloss: 0.9121079\tbest: 0.9121079 (21)\ttotal: 8.23s\tremaining: 2.99s\n",
      "0:\tlearn: 0.9092305\ttest: 0.9095042\tbest: 0.9095042 (0)\ttotal: 53.3ms\tremaining: 480ms\n",
      "1:\tlearn: 0.9092305\ttest: 0.9095042\tbest: 0.9095042 (0)\ttotal: 111ms\tremaining: 444ms\n",
      "2:\tlearn: 0.9104925\ttest: 0.9107773\tbest: 0.9107773 (2)\ttotal: 159ms\tremaining: 370ms\n",
      "3:\tlearn: 0.9104317\ttest: 0.9107163\tbest: 0.9107773 (2)\ttotal: 220ms\tremaining: 331ms\n",
      "4:\tlearn: 0.9109453\ttest: 0.9112350\tbest: 0.9112350 (4)\ttotal: 270ms\tremaining: 270ms\n",
      "5:\tlearn: 0.9104925\ttest: 0.9107773\tbest: 0.9112350 (4)\ttotal: 328ms\tremaining: 219ms\n",
      "6:\tlearn: 0.9112360\ttest: 0.9114279\tbest: 0.9114279 (6)\ttotal: 384ms\tremaining: 165ms\n",
      "7:\tlearn: 0.9112588\ttest: 0.9114328\tbest: 0.9114328 (7)\ttotal: 439ms\tremaining: 110ms\n",
      "8:\tlearn: 0.9112588\ttest: 0.9114328\tbest: 0.9114328 (7)\ttotal: 483ms\tremaining: 53.6ms\n",
      "9:\tlearn: 0.9113586\ttest: 0.9115852\tbest: 0.9115852 (9)\ttotal: 540ms\tremaining: 0us\n",
      "\n",
      "bestTest = 0.9115851951\n",
      "bestIteration = 9\n",
      "\n",
      "22:\tloss: 0.9115852\tbest: 0.9121079 (21)\ttotal: 8.79s\tremaining: 2.67s\n",
      "0:\tlearn: 0.9092305\ttest: 0.9095042\tbest: 0.9095042 (0)\ttotal: 40ms\tremaining: 360ms\n",
      "1:\tlearn: 0.9092305\ttest: 0.9095042\tbest: 0.9095042 (0)\ttotal: 106ms\tremaining: 425ms\n",
      "2:\tlearn: 0.9092305\ttest: 0.9095042\tbest: 0.9095042 (0)\ttotal: 161ms\tremaining: 375ms\n",
      "3:\tlearn: 0.9086610\ttest: 0.9089537\tbest: 0.9095042 (0)\ttotal: 227ms\tremaining: 341ms\n",
      "4:\tlearn: 0.9108400\ttest: 0.9112310\tbest: 0.9112310 (4)\ttotal: 279ms\tremaining: 279ms\n",
      "5:\tlearn: 0.9109896\ttest: 0.9113570\tbest: 0.9113570 (5)\ttotal: 325ms\tremaining: 217ms\n",
      "6:\tlearn: 0.9118482\ttest: 0.9124682\tbest: 0.9124682 (6)\ttotal: 381ms\tremaining: 163ms\n",
      "7:\tlearn: 0.9119555\ttest: 0.9125643\tbest: 0.9125643 (7)\ttotal: 438ms\tremaining: 110ms\n",
      "8:\tlearn: 0.9119555\ttest: 0.9125643\tbest: 0.9125643 (7)\ttotal: 478ms\tremaining: 53.2ms\n",
      "9:\tlearn: 0.9119555\ttest: 0.9125339\tbest: 0.9125643 (7)\ttotal: 517ms\tremaining: 0us\n",
      "\n",
      "bestTest = 0.9125643321\n",
      "bestIteration = 7\n",
      "\n",
      "23:\tloss: 0.9125643\tbest: 0.9125643 (23)\ttotal: 9.32s\tremaining: 2.33s\n",
      "0:\tlearn: 0.9092305\ttest: 0.9095042\tbest: 0.9095042 (0)\ttotal: 38.7ms\tremaining: 348ms\n",
      "1:\tlearn: 0.9092305\ttest: 0.9095042\tbest: 0.9095042 (0)\ttotal: 94.7ms\tremaining: 379ms\n",
      "2:\tlearn: 0.9114532\ttest: 0.9117985\tbest: 0.9117985 (2)\ttotal: 157ms\tremaining: 367ms\n",
      "3:\tlearn: 0.9114532\ttest: 0.9117985\tbest: 0.9117985 (2)\ttotal: 226ms\tremaining: 339ms\n",
      "4:\tlearn: 0.9113080\ttest: 0.9117581\tbest: 0.9117985 (2)\ttotal: 289ms\tremaining: 289ms\n",
      "5:\tlearn: 0.9111058\ttest: 0.9114229\tbest: 0.9117985 (2)\ttotal: 348ms\tremaining: 232ms\n",
      "6:\tlearn: 0.9114532\ttest: 0.9117985\tbest: 0.9117985 (2)\ttotal: 392ms\tremaining: 168ms\n",
      "7:\tlearn: 0.9114532\ttest: 0.9117985\tbest: 0.9117985 (2)\ttotal: 452ms\tremaining: 113ms\n",
      "8:\tlearn: 0.9114532\ttest: 0.9117985\tbest: 0.9117985 (2)\ttotal: 486ms\tremaining: 54ms\n",
      "9:\tlearn: 0.9115378\ttest: 0.9118898\tbest: 0.9118898 (9)\ttotal: 532ms\tremaining: 0us\n",
      "\n",
      "bestTest = 0.9118898343\n",
      "bestIteration = 9\n",
      "\n",
      "24:\tloss: 0.9118898\tbest: 0.9125643 (23)\ttotal: 9.88s\tremaining: 1.98s\n",
      "0:\tlearn: 0.9092305\ttest: 0.9095042\tbest: 0.9095042 (0)\ttotal: 46.8ms\tremaining: 421ms\n",
      "1:\tlearn: 0.9092305\ttest: 0.9095042\tbest: 0.9095042 (0)\ttotal: 106ms\tremaining: 425ms\n",
      "2:\tlearn: 0.9104925\ttest: 0.9107773\tbest: 0.9107773 (2)\ttotal: 169ms\tremaining: 394ms\n",
      "3:\tlearn: 0.9104925\ttest: 0.9107773\tbest: 0.9107773 (2)\ttotal: 225ms\tremaining: 337ms\n",
      "4:\tlearn: 0.9104348\ttest: 0.9107918\tbest: 0.9107918 (4)\ttotal: 276ms\tremaining: 276ms\n",
      "5:\tlearn: 0.9106835\ttest: 0.9109910\tbest: 0.9109910 (5)\ttotal: 339ms\tremaining: 226ms\n",
      "6:\tlearn: 0.9112018\ttest: 0.9116313\tbest: 0.9116313 (6)\ttotal: 405ms\tremaining: 174ms\n",
      "7:\tlearn: 0.9115933\ttest: 0.9120470\tbest: 0.9120470 (7)\ttotal: 464ms\tremaining: 116ms\n",
      "8:\tlearn: 0.9115087\ttest: 0.9118643\tbest: 0.9120470 (7)\ttotal: 513ms\tremaining: 57ms\n",
      "9:\tlearn: 0.9115202\ttest: 0.9118034\tbest: 0.9120470 (7)\ttotal: 573ms\tremaining: 0us\n",
      "\n",
      "bestTest = 0.9120470127\n",
      "bestIteration = 7\n",
      "\n",
      "25:\tloss: 0.9120470\tbest: 0.9125643 (23)\ttotal: 10.5s\tremaining: 1.61s\n",
      "0:\tlearn: 0.9092305\ttest: 0.9095042\tbest: 0.9095042 (0)\ttotal: 42.3ms\tremaining: 381ms\n",
      "1:\tlearn: 0.9112953\ttest: 0.9116618\tbest: 0.9116618 (1)\ttotal: 99.8ms\tremaining: 399ms\n",
      "2:\tlearn: 0.9105052\ttest: 0.9108539\tbest: 0.9116618 (1)\ttotal: 154ms\tremaining: 359ms\n",
      "3:\tlearn: 0.9117119\ttest: 0.9122807\tbest: 0.9122807 (3)\ttotal: 205ms\tremaining: 308ms\n",
      "4:\tlearn: 0.9119718\ttest: 0.9125947\tbest: 0.9125947 (4)\ttotal: 245ms\tremaining: 245ms\n",
      "5:\tlearn: 0.9119718\ttest: 0.9125947\tbest: 0.9125947 (4)\ttotal: 300ms\tremaining: 200ms\n",
      "6:\tlearn: 0.9119718\ttest: 0.9125947\tbest: 0.9125947 (4)\ttotal: 360ms\tremaining: 154ms\n",
      "7:\tlearn: 0.9119555\ttest: 0.9125035\tbest: 0.9125947 (4)\ttotal: 389ms\tremaining: 97.3ms\n",
      "8:\tlearn: 0.9117498\ttest: 0.9124024\tbest: 0.9125947 (4)\ttotal: 424ms\tremaining: 47.2ms\n",
      "9:\tlearn: 0.9116703\ttest: 0.9122247\tbest: 0.9125947 (4)\ttotal: 462ms\tremaining: 0us\n",
      "\n",
      "bestTest = 0.9125947473\n",
      "bestIteration = 4\n",
      "\n",
      "26:\tloss: 0.9125947\tbest: 0.9125947 (26)\ttotal: 10.9s\tremaining: 1.22s\n",
      "0:\tlearn: 0.9092305\ttest: 0.9095042\tbest: 0.9095042 (0)\ttotal: 41.8ms\tremaining: 376ms\n",
      "1:\tlearn: 0.9112953\ttest: 0.9116618\tbest: 0.9116618 (1)\ttotal: 99.8ms\tremaining: 399ms\n",
      "2:\tlearn: 0.9104621\ttest: 0.9107468\tbest: 0.9116618 (1)\ttotal: 160ms\tremaining: 374ms\n",
      "3:\tlearn: 0.9109201\ttest: 0.9113265\tbest: 0.9116618 (1)\ttotal: 213ms\tremaining: 319ms\n",
      "4:\tlearn: 0.9114014\ttest: 0.9117631\tbest: 0.9117631 (4)\ttotal: 276ms\tremaining: 276ms\n",
      "5:\tlearn: 0.9111286\ttest: 0.9115448\tbest: 0.9117631 (4)\ttotal: 331ms\tremaining: 221ms\n",
      "6:\tlearn: 0.9112397\ttest: 0.9116667\tbest: 0.9117631 (4)\ttotal: 392ms\tremaining: 168ms\n",
      "7:\tlearn: 0.9112397\ttest: 0.9116667\tbest: 0.9117631 (4)\ttotal: 429ms\tremaining: 107ms\n",
      "8:\tlearn: 0.9115933\ttest: 0.9121079\tbest: 0.9121079 (8)\ttotal: 487ms\tremaining: 54.1ms\n",
      "9:\tlearn: 0.9115554\ttest: 0.9120421\tbest: 0.9121079 (8)\ttotal: 520ms\tremaining: 0us\n",
      "\n",
      "bestTest = 0.9121078994\n",
      "bestIteration = 8\n",
      "\n",
      "27:\tloss: 0.9121079\tbest: 0.9125947 (26)\ttotal: 11.5s\tremaining: 821ms\n",
      "0:\tlearn: 0.9092305\ttest: 0.9095042\tbest: 0.9095042 (0)\ttotal: 50.4ms\tremaining: 454ms\n",
      "1:\tlearn: 0.9116640\ttest: 0.9122297\tbest: 0.9122297 (1)\ttotal: 117ms\tremaining: 470ms\n",
      "2:\tlearn: 0.9114532\ttest: 0.9117985\tbest: 0.9122297 (1)\ttotal: 157ms\tremaining: 367ms\n",
      "3:\tlearn: 0.9105924\ttest: 0.9110470\tbest: 0.9122297 (1)\ttotal: 208ms\tremaining: 311ms\n",
      "4:\tlearn: 0.9116640\ttest: 0.9122297\tbest: 0.9122297 (1)\ttotal: 271ms\tremaining: 271ms\n",
      "5:\tlearn: 0.9116640\ttest: 0.9122297\tbest: 0.9122297 (1)\ttotal: 337ms\tremaining: 224ms\n",
      "6:\tlearn: 0.9116640\ttest: 0.9122297\tbest: 0.9122297 (1)\ttotal: 387ms\tremaining: 166ms\n",
      "7:\tlearn: 0.9116640\ttest: 0.9122297\tbest: 0.9122297 (1)\ttotal: 463ms\tremaining: 116ms\n",
      "8:\tlearn: 0.9116640\ttest: 0.9122297\tbest: 0.9122297 (1)\ttotal: 518ms\tremaining: 57.5ms\n",
      "9:\tlearn: 0.9116640\ttest: 0.9122297\tbest: 0.9122297 (1)\ttotal: 569ms\tremaining: 0us\n",
      "\n",
      "bestTest = 0.9122296522\n",
      "bestIteration = 1\n",
      "\n",
      "28:\tloss: 0.9122297\tbest: 0.9125947 (26)\ttotal: 12.1s\tremaining: 416ms\n",
      "0:\tlearn: 0.9092305\ttest: 0.9095042\tbest: 0.9095042 (0)\ttotal: 36.2ms\tremaining: 326ms\n",
      "1:\tlearn: 0.9116640\ttest: 0.9122297\tbest: 0.9122297 (1)\ttotal: 96.8ms\tremaining: 387ms\n",
      "2:\tlearn: 0.9114532\ttest: 0.9117985\tbest: 0.9122297 (1)\ttotal: 135ms\tremaining: 314ms\n",
      "3:\tlearn: 0.9116085\ttest: 0.9120775\tbest: 0.9122297 (1)\ttotal: 184ms\tremaining: 277ms\n",
      "4:\tlearn: 0.9116085\ttest: 0.9120775\tbest: 0.9122297 (1)\ttotal: 236ms\tremaining: 236ms\n",
      "5:\tlearn: 0.9116085\ttest: 0.9120775\tbest: 0.9122297 (1)\ttotal: 276ms\tremaining: 184ms\n",
      "6:\tlearn: 0.9113799\ttest: 0.9118544\tbest: 0.9122297 (1)\ttotal: 310ms\tremaining: 133ms\n",
      "7:\tlearn: 0.9113168\ttest: 0.9117277\tbest: 0.9122297 (1)\ttotal: 348ms\tremaining: 86.9ms\n",
      "8:\tlearn: 0.9116324\ttest: 0.9121992\tbest: 0.9122297 (1)\ttotal: 397ms\tremaining: 44.1ms\n",
      "9:\tlearn: 0.9116324\ttest: 0.9121992\tbest: 0.9122297 (1)\ttotal: 434ms\tremaining: 0us\n",
      "\n",
      "bestTest = 0.9122296522\n",
      "bestIteration = 1\n",
      "\n",
      "29:\tloss: 0.9122297\tbest: 0.9125947 (26)\ttotal: 12.5s\tremaining: 0us\n",
      "Estimating final quality...\n",
      "Training on fold [0/3]\n",
      "0:\tlearn: 0.9125985\ttest: 0.9110895\tbest: 0.9110895 (0)\ttotal: 63.4ms\tremaining: 571ms\n",
      "1:\tlearn: 0.9125985\ttest: 0.9110895\tbest: 0.9110895 (0)\ttotal: 123ms\tremaining: 490ms\n",
      "2:\tlearn: 0.9122153\ttest: 0.9108984\tbest: 0.9110895 (0)\ttotal: 157ms\tremaining: 367ms\n",
      "3:\tlearn: 0.9122153\ttest: 0.9108984\tbest: 0.9110895 (0)\ttotal: 189ms\tremaining: 284ms\n",
      "4:\tlearn: 0.9122153\ttest: 0.9108984\tbest: 0.9110895 (0)\ttotal: 224ms\tremaining: 224ms\n",
      "5:\tlearn: 0.9124426\ttest: 0.9110472\tbest: 0.9110895 (0)\ttotal: 277ms\tremaining: 185ms\n",
      "6:\tlearn: 0.9125985\ttest: 0.9110895\tbest: 0.9110895 (0)\ttotal: 336ms\tremaining: 144ms\n",
      "7:\tlearn: 0.9125985\ttest: 0.9110895\tbest: 0.9110895 (0)\ttotal: 384ms\tremaining: 96.1ms\n",
      "8:\tlearn: 0.9125985\ttest: 0.9110895\tbest: 0.9110895 (0)\ttotal: 409ms\tremaining: 45.5ms\n",
      "9:\tlearn: 0.9125985\ttest: 0.9110895\tbest: 0.9110895 (0)\ttotal: 451ms\tremaining: 0us\n",
      "\n",
      "bestTest = 0.9110895462\n",
      "bestIteration = 0\n",
      "\n",
      "Training on fold [1/3]\n",
      "0:\tlearn: 0.9103960\ttest: 0.9097427\tbest: 0.9097427 (0)\ttotal: 57.8ms\tremaining: 520ms\n",
      "1:\tlearn: 0.9103960\ttest: 0.9097427\tbest: 0.9097427 (0)\ttotal: 102ms\tremaining: 410ms\n",
      "2:\tlearn: 0.9103960\ttest: 0.9097427\tbest: 0.9097427 (0)\ttotal: 146ms\tremaining: 340ms\n",
      "3:\tlearn: 0.9103960\ttest: 0.9097427\tbest: 0.9097427 (0)\ttotal: 202ms\tremaining: 304ms\n",
      "4:\tlearn: 0.9096319\ttest: 0.9087586\tbest: 0.9097427 (0)\ttotal: 238ms\tremaining: 238ms\n",
      "5:\tlearn: 0.9093684\ttest: 0.9085725\tbest: 0.9097427 (0)\ttotal: 281ms\tremaining: 187ms\n",
      "6:\tlearn: 0.9083125\ttest: 0.9071853\tbest: 0.9097427 (0)\ttotal: 312ms\tremaining: 134ms\n",
      "7:\tlearn: 0.9111695\ttest: 0.9104787\tbest: 0.9104787 (7)\ttotal: 366ms\tremaining: 91.4ms\n",
      "8:\tlearn: 0.9104401\ttest: 0.9097214\tbest: 0.9104787 (7)\ttotal: 404ms\tremaining: 44.9ms\n",
      "9:\tlearn: 0.9114123\ttest: 0.9109375\tbest: 0.9109375 (9)\ttotal: 460ms\tremaining: 0us\n",
      "\n",
      "bestTest = 0.9109374739\n",
      "bestIteration = 9\n",
      "\n",
      "Training on fold [2/3]\n",
      "0:\tlearn: 0.9095129\ttest: 0.9115072\tbest: 0.9115072 (0)\ttotal: 69.2ms\tremaining: 623ms\n",
      "1:\tlearn: 0.9095129\ttest: 0.9115072\tbest: 0.9115072 (0)\ttotal: 98.7ms\tremaining: 395ms\n",
      "2:\tlearn: 0.9095129\ttest: 0.9115072\tbest: 0.9115072 (0)\ttotal: 129ms\tremaining: 302ms\n",
      "3:\tlearn: 0.9108709\ttest: 0.9127775\tbest: 0.9127775 (3)\ttotal: 182ms\tremaining: 273ms\n",
      "4:\tlearn: 0.9107600\ttest: 0.9126626\tbest: 0.9127775 (3)\ttotal: 218ms\tremaining: 218ms\n",
      "5:\tlearn: 0.9114322\ttest: 0.9134219\tbest: 0.9134219 (5)\ttotal: 268ms\tremaining: 179ms\n",
      "6:\tlearn: 0.9113549\ttest: 0.9132222\tbest: 0.9134219 (5)\ttotal: 320ms\tremaining: 137ms\n",
      "7:\tlearn: 0.9108709\ttest: 0.9127775\tbest: 0.9134219 (5)\ttotal: 357ms\tremaining: 89.2ms\n",
      "8:\tlearn: 0.9108024\ttest: 0.9126292\tbest: 0.9134219 (5)\ttotal: 406ms\tremaining: 45.1ms\n",
      "9:\tlearn: 0.9113549\ttest: 0.9132222\tbest: 0.9134219 (5)\ttotal: 449ms\tremaining: 0us\n",
      "\n",
      "bestTest = 0.9134218659\n",
      "bestIteration = 5\n",
      "\n"
     ]
    }
   ],
   "source": [
    "grid_search_result = model.grid_search(grid, train_pool, plot=True)"
   ]
  },
  {
   "cell_type": "code",
   "execution_count": 19,
   "id": "182ec151-8355-40b2-b6d2-29b8120955cb",
   "metadata": {},
   "outputs": [],
   "source": [
    "mlflow.log_param('best_params', grid_search_result['params'])"
   ]
  },
  {
   "cell_type": "code",
   "execution_count": 20,
   "id": "14a32d4c-73f8-4fd4-b0e0-0eec1cdb9929",
   "metadata": {},
   "outputs": [
    {
     "name": "stdout",
     "output_type": "stream",
     "text": [
      "ROC AUC: 0.9027537535789404\n",
      "Precision: 0.9080745341614906\n",
      "Recall: 0.9132726075006247\n",
      "F1: 0.9106661532537544\n"
     ]
    }
   ],
   "source": [
    "y_test_pred_proba = model.predict_proba(X_test)[:, 1]\n",
    "y_test_pred = model.predict(X_test)\n",
    "\n",
    "roc_auc = roc_auc_score(y_test, y_test_pred_proba)\n",
    "precision = precision_score(y_test, y_test_pred)\n",
    "recall = recall_score(y_test, y_test_pred)\n",
    "f1 = f1_score(y_test, y_test_pred)\n",
    "\n",
    "mlflow.log_metric('roc_auc', roc_auc)\n",
    "mlflow.log_metric('precision', precision)\n",
    "mlflow.log_metric('recall', recall)\n",
    "mlflow.log_metric('f1', f1)\n",
    "\n",
    "print(f'ROC AUC: {roc_auc}')\n",
    "print(f'Precision: {precision}')\n",
    "print(f'Recall: {recall}')\n",
    "print(f'F1: {f1}')"
   ]
  },
  {
   "cell_type": "code",
   "execution_count": 21,
   "id": "bd2ffc85-6fc4-40d3-9bc5-9f23298317d9",
   "metadata": {},
   "outputs": [],
   "source": [
    "input_schema = Schema([\n",
    "  ColSpec(\"double\", \"age\"),\n",
    "  ColSpec(\"string\", \"sex\"),\n",
    "  ColSpec(\"string\", \"car_class\"),\n",
    "  ColSpec(\"double\", \"driving_experience\"),\n",
    "  ColSpec(\"double\", \"speeding_penalties\"),\n",
    "  ColSpec(\"double\", \"parking_penalties\"),\n",
    "  ColSpec(\"double\", \"total_car_accident\")\n",
    "])\n",
    "output_schema = Schema([ColSpec(\"long\", \"has_car_accident\")])\n",
    "signature = ModelSignature(inputs=input_schema, outputs=output_schema)"
   ]
  },
  {
   "cell_type": "code",
   "execution_count": 22,
   "id": "13f0dd1f-ecf2-4b4f-9fc6-6b757ea3f720",
   "metadata": {},
   "outputs": [
    {
     "name": "stderr",
     "output_type": "stream",
     "text": [
      "Registered model 'driver-accident' already exists. Creating a new version of this model...\n",
      "2022/11/03 17:33:04 INFO mlflow.tracking._model_registry.client: Waiting up to 300 seconds for model version to finish creation.                     Model name: driver-accident, version 13\n",
      "Created version '13' of model 'driver-accident'.\n"
     ]
    },
    {
     "data": {
      "text/plain": [
       "ModelInfo(artifact_path='driver-accident', flavors={'python_function': {'loader_module': 'mlflow.catboost', 'python_version': '3.9.7', 'data': 'model.cb', 'env': 'conda.yaml'}, 'catboost': {'catboost_version': '1.1', 'code': None, 'model_type': 'CatBoostClassifier', 'save_format': 'cbm', 'data': 'model.cb'}}, model_uri='runs:/b2d316def79c47fa99ad921312298b6a/driver-accident', model_uuid='3d8cd85de24c42be9cd3334bc9693e54', run_id='b2d316def79c47fa99ad921312298b6a', saved_input_example_info=None, signature_dict={'inputs': '[{\"name\": \"age\", \"type\": \"double\"}, {\"name\": \"sex\", \"type\": \"string\"}, {\"name\": \"car_class\", \"type\": \"string\"}, {\"name\": \"driving_experience\", \"type\": \"double\"}, {\"name\": \"speeding_penalties\", \"type\": \"double\"}, {\"name\": \"parking_penalties\", \"type\": \"double\"}, {\"name\": \"total_car_accident\", \"type\": \"double\"}]', 'outputs': '[{\"name\": \"has_car_accident\", \"type\": \"long\"}]'}, utc_time_created='2022-11-03 17:33:01.754135', mlflow_version='1.26.1.dev0')"
      ]
     },
     "execution_count": 22,
     "metadata": {},
     "output_type": "execute_result"
    }
   ],
   "source": [
    "mlflow.catboost.log_model(model,\n",
    "                          artifact_path=\"driver-accident\",\n",
    "                          registered_model_name=\"driver-accident\",\n",
    "                          signature=signature)"
   ]
  },
  {
   "cell_type": "code",
   "execution_count": 23,
   "id": "441e1a0c-044c-4164-ba79-28aff726183e",
   "metadata": {},
   "outputs": [
    {
     "data": {
      "image/png": "[encoded data removed]",
      "text/plain": [
       "<Figure size 1600x800 with 1 Axes>"
      ]
     },
     "metadata": {},
     "output_type": "display_data"
    },
    {
     "data": {
      "image/png": "[encoded data removed]",
      "text/plain": [
       "<Figure size 1600x800 with 1 Axes>"
      ]
     },
     "metadata": {},
     "output_type": "display_data"
    }
   ],
   "source": [
    "roc_curve_values = get_roc_curve(model, train_pool, plot=True)\n",
    "(thresholds, fpr) = get_fpr_curve(curve=roc_curve_values, plot=True)"
   ]
  },
  {
   "cell_type": "code",
   "execution_count": 24,
   "id": "f7123dd5-9967-4210-ac2c-d0ff3f31b348",
   "metadata": {},
   "outputs": [],
   "source": [
    "mlflow.log_artifact(\"DriverAccident.ipynb\")"
   ]
  },
  {
   "cell_type": "code",
   "execution_count": 25,
   "id": "f09ec7e1-5961-42b3-9891-f668dd8cbcae",
   "metadata": {},
   "outputs": [],
   "source": [
    "mlflow.end_run()"
   ]
  },
  {
   "cell_type": "code",
   "execution_count": 26,
   "id": "dc335c1b-6295-497e-b2bb-15a340e1fa54",
   "metadata": {},
   "outputs": [],
   "source": [
    "#!python train-job.py"
   ]
  },
  {
   "cell_type": "code",
   "execution_count": null,
   "id": "04172ecb-5763-4f67-b153-b1e458d400f3",
   "metadata": {},
   "outputs": [],
   "source": []
  }
 ],
 "metadata": {
  "kernelspec": {
   "display_name": "Python 3 (ipykernel)",
   "language": "python",
   "name": "python3"
  },
  "language_info": {
   "codemirror_mode": {
    "name": "ipython",
    "version": 3
   },
   "file_extension": ".py",
   "mimetype": "text/x-python",
   "name": "python",
   "nbconvert_exporter": "python",
   "pygments_lexer": "ipython3",
   "version": "3.9.7"
  }
 },
 "nbformat": 4,
 "nbformat_minor": 5
}
