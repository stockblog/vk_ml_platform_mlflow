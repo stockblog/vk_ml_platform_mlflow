{
 "cells": [
  {
   "cell_type": "code",
   "execution_count": 1,
   "id": "caab3e7e-185e-4613-87d6-286b2016966a",
   "metadata": {},
   "outputs": [],
   "source": [
    "import mlflow\n",
    "import os\n",
    "import datetime\n",
    "import mlflow\n",
    "from mlflow.tracking import MlflowClient\n",
    "import pandas as pd\n",
    "from sklearn.metrics import roc_auc_score, precision_score, recall_score, f1_score"
   ]
  },
  {
   "cell_type": "code",
   "execution_count": 2,
   "id": "66ceda64-2276-4da9-9cce-d749eba50869",
   "metadata": {},
   "outputs": [],
   "source": [
    "client = MlflowClient()"
   ]
  },
  {
   "cell_type": "markdown",
   "id": "d9dee51c-8a39-4ec4-b61b-fe8fd295bd81",
   "metadata": {
    "tags": []
   },
   "source": [
    "## Work with API"
   ]
  },
  {
   "cell_type": "code",
   "execution_count": 3,
   "id": "c1cd5448-79be-4c7d-a0eb-221417ecdeea",
   "metadata": {},
   "outputs": [
    {
     "data": {
      "text/plain": [
       "[<Experiment: artifact_location='mlflow-artifacts:/0', experiment_id='0', lifecycle_stage='active', name='Default', tags={}>,\n",
       " <Experiment: artifact_location='mlflow-artifacts:/1', experiment_id='1', lifecycle_stage='active', name='Manual_logging', tags={}>,\n",
       " <Experiment: artifact_location='mlflow-artifacts:/2', experiment_id='2', lifecycle_stage='active', name='Auto_logging', tags={}>,\n",
       " <Experiment: artifact_location='mlflow-artifacts:/6', experiment_id='6', lifecycle_stage='active', name='driver_accident', tags={}>]"
      ]
     },
     "execution_count": 3,
     "metadata": {},
     "output_type": "execute_result"
    }
   ],
   "source": [
    "client.list_experiments()"
   ]
  },
  {
   "cell_type": "code",
   "execution_count": 4,
   "id": "50ab44b5-61eb-448d-95ba-4266feb0dc48",
   "metadata": {},
   "outputs": [
    {
     "data": {
      "text/plain": [
       "<Experiment: artifact_location='mlflow-artifacts:/6', experiment_id='6', lifecycle_stage='active', name='driver_accident', tags={}>"
      ]
     },
     "execution_count": 4,
     "metadata": {},
     "output_type": "execute_result"
    }
   ],
   "source": [
    "exp = client.get_experiment_by_name('driver_accident')\n",
    "exp"
   ]
  },
  {
   "cell_type": "code",
   "execution_count": 5,
   "id": "59d60c4a-046b-4792-a223-eb261613d484",
   "metadata": {},
   "outputs": [
    {
     "data": {
      "text/plain": [
       "[<RunInfo: artifact_uri='mlflow-artifacts:/6/e82ad3d17e1240d8993f253246a36c7d/artifacts', end_time=1669496564592, experiment_id='6', lifecycle_stage='active', run_id='e82ad3d17e1240d8993f253246a36c7d', run_uuid='e82ad3d17e1240d8993f253246a36c7d', start_time=1669496561387, status='FINISHED', user_id='jupyter-serart'>,\n",
       " <RunInfo: artifact_uri='mlflow-artifacts:/6/b1fe9f6262ce457e8c9af3dc9a293d4d/artifacts', end_time=1669496560748, experiment_id='6', lifecycle_stage='active', run_id='b1fe9f6262ce457e8c9af3dc9a293d4d', run_uuid='b1fe9f6262ce457e8c9af3dc9a293d4d', start_time=1669496544797, status='FINISHED', user_id='jupyter-serart'>,\n",
       " <RunInfo: artifact_uri='mlflow-artifacts:/6/f88c03239f0e49a19d33b6a0c69fc3df/artifacts', end_time=1669496543008, experiment_id='6', lifecycle_stage='active', run_id='f88c03239f0e49a19d33b6a0c69fc3df', run_uuid='f88c03239f0e49a19d33b6a0c69fc3df', start_time=1669496520251, status='FINISHED', user_id='jupyter-serart'>,\n",
       " <RunInfo: artifact_uri='mlflow-artifacts:/6/ab9b6ed175964ec38889da670b9f4fd5/artifacts', end_time=1669496496210, experiment_id='6', lifecycle_stage='active', run_id='ab9b6ed175964ec38889da670b9f4fd5', run_uuid='ab9b6ed175964ec38889da670b9f4fd5', start_time=1669496419775, status='FINISHED', user_id='jupyter-serart'>]"
      ]
     },
     "execution_count": 5,
     "metadata": {},
     "output_type": "execute_result"
    }
   ],
   "source": [
    "client.list_run_infos(exp.experiment_id)"
   ]
  },
  {
   "cell_type": "code",
   "execution_count": 6,
   "id": "d223bc1e-4f8f-431d-8640-5b49fb36d9ba",
   "metadata": {},
   "outputs": [
    {
     "data": {
      "text/plain": [
       "<RunInfo: artifact_uri='mlflow-artifacts:/6/ab9b6ed175964ec38889da670b9f4fd5/artifacts', end_time=1669496496210, experiment_id='6', lifecycle_stage='active', run_id='ab9b6ed175964ec38889da670b9f4fd5', run_uuid='ab9b6ed175964ec38889da670b9f4fd5', start_time=1669496419775, status='FINISHED', user_id='jupyter-serart'>"
      ]
     },
     "execution_count": 6,
     "metadata": {},
     "output_type": "execute_result"
    }
   ],
   "source": [
    "# the [-1] means the first element \n",
    "\n",
    "run_info = client.list_run_infos(exp.experiment_id)[-1]\n",
    "run_info"
   ]
  },
  {
   "cell_type": "code",
   "execution_count": 7,
   "id": "89d25fe7-46e6-4c93-a65f-b0116f4effd7",
   "metadata": {},
   "outputs": [],
   "source": [
    "run_id = run_info.run_id"
   ]
  },
  {
   "cell_type": "code",
   "execution_count": 8,
   "id": "58fbabc2-1a9a-40ff-b4ea-75ae6a511589",
   "metadata": {},
   "outputs": [
    {
     "data": {
      "text/plain": [
       "<Run: data=<RunData: metrics={'f1': 0.9026566874250129,\n",
       " 'precision': 0.9081670192219259,\n",
       " 'recall': 0.8972128205710651,\n",
       " 'roc_auc': 0.9028009447899076}, params={'best_params': \"{'depth': 6, 'l2_leaf_reg': 5, 'learning_rate': 0.1}\",\n",
       " 'categorial features': \"['sex', 'car_class']\",\n",
       " 'features': \"['age', 'sex', 'car_class', 'driving_experience', \"\n",
       "             \"'speeding_penalties', 'parking_penalties', 'total_car_accident']\",\n",
       " 'model_type': \"<class 'catboost.core.CatBoostClassifier'>\",\n",
       " 'param_grid': \"{'learning_rate': [0.03, 0.1, 0.05], 'depth': [2, 4, 6], \"\n",
       "               \"'l2_leaf_reg': [1, 3, 5, 7, 9, 20]}\",\n",
       " 'target': 'has_car_accident'}, tags={'auto_tracking': 'false',\n",
       " 'framework': 'Catboost',\n",
       " 'mlflow.log-model.history': '[{\"run_id\": \"ab9b6ed175964ec38889da670b9f4fd5\", '\n",
       "                             '\"artifact_path\": \"driver_accident\", '\n",
       "                             '\"utc_time_created\": \"2022-11-26 '\n",
       "                             '21:00:35.491172\", \"flavors\": {\"python_function\": '\n",
       "                             '{\"loader_module\": \"mlflow.catboost\", '\n",
       "                             '\"python_version\": \"3.9.7\", \"data\": \"model.cb\", '\n",
       "                             '\"env\": \"conda.yaml\"}, \"catboost\": '\n",
       "                             '{\"catboost_version\": \"1.1.1\", \"code\": null, '\n",
       "                             '\"model_type\": \"CatBoostClassifier\", '\n",
       "                             '\"save_format\": \"cbm\", \"data\": \"model.cb\"}}, '\n",
       "                             '\"model_uuid\": '\n",
       "                             '\"d75eec7880a346618304ce856fb7dfea\", '\n",
       "                             '\"mlflow_version\": \"1.26.1.dev0\", \"signature\": '\n",
       "                             '{\"inputs\": \"[{\\\\\"name\\\\\": \\\\\"age\\\\\", \\\\\"type\\\\\": '\n",
       "                             '\\\\\"double\\\\\"}, {\\\\\"name\\\\\": \\\\\"sex\\\\\", '\n",
       "                             '\\\\\"type\\\\\": \\\\\"string\\\\\"}, {\\\\\"name\\\\\": '\n",
       "                             '\\\\\"car_class\\\\\", \\\\\"type\\\\\": \\\\\"string\\\\\"}, '\n",
       "                             '{\\\\\"name\\\\\": \\\\\"driving_experience\\\\\", '\n",
       "                             '\\\\\"type\\\\\": \\\\\"double\\\\\"}, {\\\\\"name\\\\\": '\n",
       "                             '\\\\\"speeding_penalties\\\\\", \\\\\"type\\\\\": '\n",
       "                             '\\\\\"double\\\\\"}, {\\\\\"name\\\\\": '\n",
       "                             '\\\\\"parking_penalties\\\\\", \\\\\"type\\\\\": '\n",
       "                             '\\\\\"double\\\\\"}, {\\\\\"name\\\\\": '\n",
       "                             '\\\\\"total_car_accident\\\\\", \\\\\"type\\\\\": '\n",
       "                             '\\\\\"double\\\\\"}]\", \"outputs\": \"[{\\\\\"name\\\\\": '\n",
       "                             '\\\\\"has_car_accident\\\\\", \\\\\"type\\\\\": '\n",
       "                             '\\\\\"long\\\\\"}]\"}}]',\n",
       " 'mlflow.source.name': '/opt/tljh/user/lib/python3.9/site-packages/ipykernel_launcher.py',\n",
       " 'mlflow.source.type': 'LOCAL',\n",
       " 'mlflow.user': 'jupyter-serart'}>, info=<RunInfo: artifact_uri='mlflow-artifacts:/6/ab9b6ed175964ec38889da670b9f4fd5/artifacts', end_time=1669496496210, experiment_id='6', lifecycle_stage='active', run_id='ab9b6ed175964ec38889da670b9f4fd5', run_uuid='ab9b6ed175964ec38889da670b9f4fd5', start_time=1669496419775, status='FINISHED', user_id='jupyter-serart'>>"
      ]
     },
     "execution_count": 8,
     "metadata": {},
     "output_type": "execute_result"
    }
   ],
   "source": [
    "run = client.get_run(run_id)\n",
    "run"
   ]
  },
  {
   "cell_type": "code",
   "execution_count": 9,
   "id": "52df3bdb-0969-4475-b6b6-7774da0fe296",
   "metadata": {},
   "outputs": [
    {
     "data": {
      "text/plain": [
       "{'roc_auc': 0.9028009447899076,\n",
       " 'precision': 0.9081670192219259,\n",
       " 'recall': 0.8972128205710651,\n",
       " 'f1': 0.9026566874250129}"
      ]
     },
     "execution_count": 9,
     "metadata": {},
     "output_type": "execute_result"
    }
   ],
   "source": [
    "run.data.metrics"
   ]
  },
  {
   "cell_type": "code",
   "execution_count": 10,
   "id": "ef829f40-ba3e-4887-a6a9-366d9c603c1a",
   "metadata": {},
   "outputs": [
    {
     "data": {
      "text/plain": [
       "{'features': \"['age', 'sex', 'car_class', 'driving_experience', 'speeding_penalties', 'parking_penalties', 'total_car_accident']\",\n",
       " 'categorial features': \"['sex', 'car_class']\",\n",
       " 'target': 'has_car_accident',\n",
       " 'model_type': \"<class 'catboost.core.CatBoostClassifier'>\",\n",
       " 'param_grid': \"{'learning_rate': [0.03, 0.1, 0.05], 'depth': [2, 4, 6], 'l2_leaf_reg': [1, 3, 5, 7, 9, 20]}\",\n",
       " 'best_params': \"{'depth': 6, 'l2_leaf_reg': 5, 'learning_rate': 0.1}\"}"
      ]
     },
     "execution_count": 10,
     "metadata": {},
     "output_type": "execute_result"
    }
   ],
   "source": [
    "run.data.params"
   ]
  },
  {
   "cell_type": "markdown",
   "id": "af7c2ed1-ce59-46b0-a47c-a8226c912100",
   "metadata": {
    "tags": []
   },
   "source": [
    "## Model API"
   ]
  },
  {
   "cell_type": "code",
   "execution_count": 11,
   "id": "6f0dfc6b-a881-44c1-ab9e-3b14c87b9939",
   "metadata": {},
   "outputs": [
    {
     "data": {
      "text/plain": [
       "<RegisteredModel: creation_timestamp=1669294919484, description='', last_updated_timestamp=1669489703953, latest_versions=[<ModelVersion: creation_timestamp=1669294919510, current_stage='Production', description='', last_updated_timestamp=1669295533288, name='driver-accident', run_id='4b208b5457824871bcb055a3634379b3', run_link='', source='mlflow-artifacts:/3/4b208b5457824871bcb055a3634379b3/artifacts/driver-accident', status='READY', status_message='', tags={}, user_id='', version='1'>,\n",
       " <ModelVersion: creation_timestamp=1669489703953, current_stage='None', description='', last_updated_timestamp=1669489703953, name='driver-accident', run_id='3ad2b1294f4342a1be929c5c34735815', run_link='', source='mlflow-artifacts:/6/3ad2b1294f4342a1be929c5c34735815/artifacts/driver-accident', status='READY', status_message='', tags={}, user_id='', version='4'>], name='driver-accident', tags={}>"
      ]
     },
     "execution_count": 11,
     "metadata": {},
     "output_type": "execute_result"
    }
   ],
   "source": [
    "last_models = client.list_registered_models()\n",
    "reg_model = last_models[0]\n",
    "reg_model"
   ]
  },
  {
   "cell_type": "code",
   "execution_count": 12,
   "id": "3d00966c-5b80-4a17-8ca6-19dde14bc067",
   "metadata": {},
   "outputs": [
    {
     "data": {
      "text/plain": [
       "[<ModelVersion: creation_timestamp=1669294919510, current_stage='Production', description='', last_updated_timestamp=1669295533288, name='driver-accident', run_id='4b208b5457824871bcb055a3634379b3', run_link='', source='mlflow-artifacts:/3/4b208b5457824871bcb055a3634379b3/artifacts/driver-accident', status='READY', status_message='', tags={}, user_id='', version='1'>,\n",
       " <ModelVersion: creation_timestamp=1669489703953, current_stage='None', description='', last_updated_timestamp=1669489703953, name='driver-accident', run_id='3ad2b1294f4342a1be929c5c34735815', run_link='', source='mlflow-artifacts:/6/3ad2b1294f4342a1be929c5c34735815/artifacts/driver-accident', status='READY', status_message='', tags={}, user_id='', version='4'>]"
      ]
     },
     "execution_count": 12,
     "metadata": {},
     "output_type": "execute_result"
    }
   ],
   "source": [
    "reg_model.latest_versions"
   ]
  },
  {
   "cell_type": "code",
   "execution_count": 13,
   "id": "cbba38eb-2548-4501-a9f4-529685df2923",
   "metadata": {},
   "outputs": [],
   "source": [
    "def get_last_prod_model(name):\n",
    "    last_models = client.get_registered_model(name).latest_versions\n",
    "    models = list(filter(lambda x: x.current_stage == 'Production', last_models))\n",
    "    if len(models) == 0:\n",
    "        return None\n",
    "    else:\n",
    "        return models[0]"
   ]
  },
  {
   "cell_type": "code",
   "execution_count": 14,
   "id": "3181feb6-ba77-4f3a-97a5-664aedc3b073",
   "metadata": {},
   "outputs": [
    {
     "data": {
      "text/plain": [
       "<ModelVersion: creation_timestamp=1669494057325, current_stage='Production', description='', last_updated_timestamp=1669495020427, name='driver_accident', run_id='64fe89bcfe3549769ab9b9f456608914', run_link='', source='mlflow-artifacts:/6/64fe89bcfe3549769ab9b9f456608914/artifacts/driver_accident', status='READY', status_message='', tags={}, user_id='', version='2'>"
      ]
     },
     "execution_count": 14,
     "metadata": {},
     "output_type": "execute_result"
    }
   ],
   "source": [
    "model_version = get_last_prod_model('driver_accident')\n",
    "model_version"
   ]
  },
  {
   "cell_type": "code",
   "execution_count": 15,
   "id": "21fa0e00-3d86-49d3-a020-40413da98bc7",
   "metadata": {},
   "outputs": [
    {
     "data": {
      "text/plain": [
       "'2'"
      ]
     },
     "execution_count": 15,
     "metadata": {},
     "output_type": "execute_result"
    }
   ],
   "source": [
    "m_version = model_version.version\n",
    "m_version"
   ]
  },
  {
   "cell_type": "markdown",
   "id": "0059f815-28d3-4481-bf60-506ec06b12ca",
   "metadata": {
    "tags": []
   },
   "source": [
    "## Data loading"
   ]
  },
  {
   "cell_type": "code",
   "execution_count": 16,
   "id": "037cd48c-d963-4f07-a96d-f592f435525c",
   "metadata": {},
   "outputs": [],
   "source": [
    "df = pd.read_parquet('driver-stat.parquet')"
   ]
  },
  {
   "cell_type": "code",
   "execution_count": 17,
   "id": "698111d8-514c-4bdf-9a91-d7295b884584",
   "metadata": {},
   "outputs": [],
   "source": [
    "FEATURES = ['age', 'sex', 'car_class', 'driving_experience', 'speeding_penalties', 'parking_penalties', 'total_car_accident']"
   ]
  },
  {
   "cell_type": "code",
   "execution_count": 18,
   "id": "97431e82-e2da-4669-88ba-b8cd35a91c47",
   "metadata": {},
   "outputs": [],
   "source": [
    "test_df = df[FEATURES]"
   ]
  },
  {
   "cell_type": "markdown",
   "id": "7025d980-9d1c-4178-b15a-f1c2b5e8288f",
   "metadata": {
    "tags": []
   },
   "source": [
    "### Загрузка и применение модели"
   ]
  },
  {
   "cell_type": "code",
   "execution_count": 19,
   "id": "fcea0d36-e128-4718-a1b0-9fef36d8d016",
   "metadata": {},
   "outputs": [],
   "source": [
    "# logged_model = 'runs:/26b40e069ae34d82b35999f81671b606/driver_accident'\n",
    "logged_model = f'models:/driver_accident/{m_version}'\n",
    "\n",
    "loaded_model = mlflow.pyfunc.load_model(logged_model)\n",
    "\n",
    "import pandas as pd\n",
    "predict = loaded_model.predict(test_df)"
   ]
  },
  {
   "cell_type": "code",
   "execution_count": 20,
   "id": "f3b81f6c-a166-4909-8b06-18ef1cf998f7",
   "metadata": {},
   "outputs": [
    {
     "name": "stdout",
     "output_type": "stream",
     "text": [
      "ROC AUC: 0.8941573609910689\n",
      "Precision: 0.9090475374029982\n",
      "Recall: 0.9134531835205992\n",
      "F1: 0.9112450354384692\n"
     ]
    }
   ],
   "source": [
    "roc_auc = roc_auc_score(df.has_car_accident, predict)\n",
    "precision = precision_score(df.has_car_accident, predict)\n",
    "recall = recall_score(df.has_car_accident, predict)\n",
    "f1 = f1_score(df.has_car_accident, predict)\n",
    "\n",
    "print(f'ROC AUC: {roc_auc}')\n",
    "print(f'Precision: {precision}')\n",
    "print(f'Recall: {recall}')\n",
    "print(f'F1: {f1}')"
   ]
  },
  {
   "cell_type": "markdown",
   "id": "2400f520-2da3-4d48-bdec-03486b94c7e0",
   "metadata": {
    "tags": []
   },
   "source": [
    "### Сервировка модели с MLFlow"
   ]
  },
  {
   "cell_type": "code",
   "execution_count": null,
   "id": "470076c7-1956-48be-a3c6-d77fa5f402a3",
   "metadata": {},
   "outputs": [
    {
     "name": "stdout",
     "output_type": "stream",
     "text": [
      "2022/11/27 12:24:05 INFO mlflow.models.cli: Selected backend for flavor 'python_function'\n",
      "2022/11/27 12:24:06 INFO mlflow.utils.conda: Conda environment mlflow-ee4e907f4890e4c573af555778236fa7b5d89cea already exists.\n",
      "2022/11/27 12:24:06 INFO mlflow.pyfunc.backend: === Running command 'source activate mlflow-ee4e907f4890e4c573af555778236fa7b5d89cea 1>&2 && exec gunicorn --timeout=60 -b 127.0.0.1:10201 -w 1 ${GUNICORN_CMD_ARGS} -- mlflow.pyfunc.scoring_server.wsgi:app'\n",
      "[2022-11-27 12:24:07 +0000] [165863] [INFO] Starting gunicorn 20.1.0\n",
      "[2022-11-27 12:24:07 +0000] [165863] [INFO] Listening at: http://127.0.0.1:10201 (165863)\n",
      "[2022-11-27 12:24:07 +0000] [165863] [INFO] Using worker: sync\n",
      "[2022-11-27 12:24:07 +0000] [165871] [INFO] Booting worker with pid: 165871\n"
     ]
    }
   ],
   "source": [
    "!mlflow models serve -m models:/driver_accident/1 --port 10201"
   ]
  },
  {
   "cell_type": "markdown",
   "id": "cdfb14c5-d006-44c6-802d-e3a5a389b4c8",
   "metadata": {},
   "source": [
    "Use this command in console:\n",
    "\n",
    "```curl http://127.0.0.1:10201/invocations -H 'Content-Type: application/json' -d '{\n",
    "    \"dataframe_records\": [{\"age\":18, \"sex\":\"male\", \"car_class\":\"A\", \"driving_experience\":5, \"speeding_penalties\":5, \"parking_penalties\":1, \"total_car_accident\":0}]\n",
    "}'```"
   ]
  },
  {
   "cell_type": "code",
   "execution_count": null,
   "id": "003ff074-0f2b-4e89-8cab-94888fbbf742",
   "metadata": {},
   "outputs": [],
   "source": []
  }
 ],
 "metadata": {
  "kernelspec": {
   "display_name": "Python 3 (ipykernel)",
   "language": "python",
   "name": "python3"
  },
  "language_info": {
   "codemirror_mode": {
    "name": "ipython",
    "version": 3
   },
   "file_extension": ".py",
   "mimetype": "text/x-python",
   "name": "python",
   "nbconvert_exporter": "python",
   "pygments_lexer": "ipython3",
   "version": "3.9.7"
  },
  "vscode": {
   "interpreter": {
    "hash": "de894de56a66c232ee30d0418c94ace9bbce0b399796d39197b770d9c283c732"
   }
  }
 },
 "nbformat": 4,
 "nbformat_minor": 5
}
