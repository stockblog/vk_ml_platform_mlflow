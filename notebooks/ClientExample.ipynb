{
 "cells": [
  {
   "cell_type": "code",
   "execution_count": 1,
   "id": "caab3e7e-185e-4613-87d6-286b2016966a",
   "metadata": {},
   "outputs": [],
   "source": [
    "import os\n",
    "import datetime\n",
    "import mlflow\n",
    "from mlflow.tracking import MlflowClient"
   ]
  },
  {
   "cell_type": "code",
   "execution_count": 2,
   "id": "c030a1cb-2050-4555-90c4-bbf231cf0ef3",
   "metadata": {},
   "outputs": [],
   "source": [
    "mlflow.set_tracking_uri(\"https://ml-platform-3b36c8fb4e4070.ml.msk.vkcs.cloud/\")"
   ]
  },
  {
   "cell_type": "code",
   "execution_count": 3,
   "id": "66ceda64-2276-4da9-9cce-d749eba50869",
   "metadata": {},
   "outputs": [],
   "source": [
    "client = MlflowClient()"
   ]
  },
  {
   "cell_type": "markdown",
   "id": "d9dee51c-8a39-4ec4-b61b-fe8fd295bd81",
   "metadata": {
    "tags": []
   },
   "source": [
    "### Experiments"
   ]
  },
  {
   "cell_type": "code",
   "execution_count": 4,
   "id": "c1cd5448-79be-4c7d-a0eb-221417ecdeea",
   "metadata": {},
   "outputs": [
    {
     "data": {
      "text/plain": [
       "[<Experiment: artifact_location='mlflow-artifacts:/0', experiment_id='0', lifecycle_stage='active', name='Default', tags={}>,\n",
       " <Experiment: artifact_location='mlflow-artifacts:/1', experiment_id='1', lifecycle_stage='active', name='driver-accident', tags={}>]"
      ]
     },
     "execution_count": 4,
     "metadata": {},
     "output_type": "execute_result"
    }
   ],
   "source": [
    "client.list_experiments()"
   ]
  },
  {
   "cell_type": "code",
   "execution_count": 5,
   "id": "50ab44b5-61eb-448d-95ba-4266feb0dc48",
   "metadata": {},
   "outputs": [
    {
     "data": {
      "text/plain": [
       "<Experiment: artifact_location='mlflow-artifacts:/1', experiment_id='1', lifecycle_stage='active', name='driver-accident', tags={}>"
      ]
     },
     "execution_count": 5,
     "metadata": {},
     "output_type": "execute_result"
    }
   ],
   "source": [
    "exp = client.get_experiment_by_name('driver-accident')\n",
    "exp"
   ]
  },
  {
   "cell_type": "code",
   "execution_count": 6,
   "id": "59d60c4a-046b-4792-a223-eb261613d484",
   "metadata": {},
   "outputs": [
    {
     "data": {
      "text/plain": [
       "[<RunInfo: artifact_uri='mlflow-artifacts:/1/1e5290dfceb94a0a80c44b5f22660148/artifacts', end_time=1666735355114, experiment_id='1', lifecycle_stage='active', run_id='1e5290dfceb94a0a80c44b5f22660148', run_uuid='1e5290dfceb94a0a80c44b5f22660148', start_time=1666735339712, status='FINISHED', user_id='jupyter-admin'>,\n",
       " <RunInfo: artifact_uri='mlflow-artifacts:/1/26b40e069ae34d82b35999f81671b606/artifacts', end_time=1666735337573, experiment_id='1', lifecycle_stage='active', run_id='26b40e069ae34d82b35999f81671b606', run_uuid='26b40e069ae34d82b35999f81671b606', start_time=1666735166368, status='FINISHED', user_id='jupyter-admin'>,\n",
       " <RunInfo: artifact_uri='mlflow-artifacts:/1/9e16fa18829f427fac6223bc96ba3ce2/artifacts', end_time=1666734870952, experiment_id='1', lifecycle_stage='active', run_id='9e16fa18829f427fac6223bc96ba3ce2', run_uuid='9e16fa18829f427fac6223bc96ba3ce2', start_time=1666734855576, status='FINISHED', user_id='jupyter-admin'>,\n",
       " <RunInfo: artifact_uri='mlflow-artifacts:/1/4d02df504c604f308453b4d513d1442b/artifacts', end_time=1666734813639, experiment_id='1', lifecycle_stage='active', run_id='4d02df504c604f308453b4d513d1442b', run_uuid='4d02df504c604f308453b4d513d1442b', start_time=1666734798533, status='FINISHED', user_id='jupyter-admin'>,\n",
       " <RunInfo: artifact_uri='mlflow-artifacts:/1/45890452a3554598843872ba139df2d5/artifacts', end_time=1666734779709, experiment_id='1', lifecycle_stage='active', run_id='45890452a3554598843872ba139df2d5', run_uuid='45890452a3554598843872ba139df2d5', start_time=1666734763909, status='FINISHED', user_id='jupyter-admin'>,\n",
       " <RunInfo: artifact_uri='mlflow-artifacts:/1/cb3dd48b3c49460cae694affab6b9f99/artifacts', end_time=1666734244120, experiment_id='1', lifecycle_stage='active', run_id='cb3dd48b3c49460cae694affab6b9f99', run_uuid='cb3dd48b3c49460cae694affab6b9f99', start_time=1666734227733, status='FINISHED', user_id='jupyter-admin'>,\n",
       " <RunInfo: artifact_uri='mlflow-artifacts:/1/a1cdd7255cb641958cee36d7f205f24c/artifacts', end_time=1666733395660, experiment_id='1', lifecycle_stage='active', run_id='a1cdd7255cb641958cee36d7f205f24c', run_uuid='a1cdd7255cb641958cee36d7f205f24c', start_time=1666732558922, status='FINISHED', user_id='jupyter-admin'>,\n",
       " <RunInfo: artifact_uri='mlflow-artifacts:/1/dbc2d94774ac482ab43c85f830c332ab/artifacts', end_time=1666732161051, experiment_id='1', lifecycle_stage='active', run_id='dbc2d94774ac482ab43c85f830c332ab', run_uuid='dbc2d94774ac482ab43c85f830c332ab', start_time=1666732144405, status='FINISHED', user_id='jupyter-admin'>,\n",
       " <RunInfo: artifact_uri='mlflow-artifacts:/1/b7cfdaa101674f8a85b0ebb6bc3d8207/artifacts', end_time=1666731981634, experiment_id='1', lifecycle_stage='active', run_id='b7cfdaa101674f8a85b0ebb6bc3d8207', run_uuid='b7cfdaa101674f8a85b0ebb6bc3d8207', start_time=1666731230785, status='FINISHED', user_id='jupyter-admin'>]"
      ]
     },
     "execution_count": 6,
     "metadata": {},
     "output_type": "execute_result"
    }
   ],
   "source": [
    "client.list_run_infos(exp.experiment_id)"
   ]
  },
  {
   "cell_type": "code",
   "execution_count": 7,
   "id": "d223bc1e-4f8f-431d-8640-5b49fb36d9ba",
   "metadata": {},
   "outputs": [
    {
     "data": {
      "text/plain": [
       "<RunInfo: artifact_uri='mlflow-artifacts:/1/1e5290dfceb94a0a80c44b5f22660148/artifacts', end_time=1666735355114, experiment_id='1', lifecycle_stage='active', run_id='1e5290dfceb94a0a80c44b5f22660148', run_uuid='1e5290dfceb94a0a80c44b5f22660148', start_time=1666735339712, status='FINISHED', user_id='jupyter-admin'>"
      ]
     },
     "execution_count": 7,
     "metadata": {},
     "output_type": "execute_result"
    }
   ],
   "source": [
    "run_info = client.list_run_infos(exp.experiment_id)[0]\n",
    "run_info"
   ]
  },
  {
   "cell_type": "code",
   "execution_count": 8,
   "id": "89d25fe7-46e6-4c93-a65f-b0116f4effd7",
   "metadata": {},
   "outputs": [],
   "source": [
    "run_id = run_info.run_id"
   ]
  },
  {
   "cell_type": "code",
   "execution_count": 9,
   "id": "58fbabc2-1a9a-40ff-b4ea-75ae6a511589",
   "metadata": {},
   "outputs": [
    {
     "data": {
      "text/plain": [
       "<Run: data=<RunData: metrics={'f1': 0.9106661532537544,\n",
       " 'precision': 0.9080745341614906,\n",
       " 'recall': 0.9132726075006247,\n",
       " 'roc_auc': 0.9027537535789404}, params={'best_params': \"{'depth': 10, 'l2_leaf_reg': 7, 'learning_rate': 0.03}\",\n",
       " 'categorial features': \"['sex', 'car_class']\",\n",
       " 'features': \"['age', 'sex', 'car_class', 'driving_experience', \"\n",
       "             \"'speeding_penalties', 'parking_penalties', 'total_car_accident']\",\n",
       " 'model_type': \"<class 'catboost.core.CatBoostClassifier'>\",\n",
       " 'param_grid': \"{'learning_rate': [0.03, 0.1], 'depth': [4, 6, 10], \"\n",
       "               \"'l2_leaf_reg': [1, 3, 5, 7, 9]}\",\n",
       " 'target': 'has_car_accident'}, tags={'mlflow.log-model.history': '[{\"run_id\": \"1e5290dfceb94a0a80c44b5f22660148\", '\n",
       "                             '\"artifact_path\": \"driver-accident\", '\n",
       "                             '\"utc_time_created\": \"2022-10-25 '\n",
       "                             '22:02:33.015435\", \"flavors\": {\"python_function\": '\n",
       "                             '{\"loader_module\": \"mlflow.catboost\", '\n",
       "                             '\"python_version\": \"3.9.7\", \"data\": \"model.cb\", '\n",
       "                             '\"env\": \"conda.yaml\"}, \"catboost\": '\n",
       "                             '{\"catboost_version\": \"1.1\", \"code\": null, '\n",
       "                             '\"model_type\": \"CatBoostClassifier\", '\n",
       "                             '\"save_format\": \"cbm\", \"data\": \"model.cb\"}}, '\n",
       "                             '\"model_uuid\": '\n",
       "                             '\"c885bb3f8a9a4ee982a7d19e4d0ea3d1\", '\n",
       "                             '\"mlflow_version\": \"1.26.1.dev0\"}]',\n",
       " 'mlflow.source.name': 'train-job.py',\n",
       " 'mlflow.source.type': 'LOCAL',\n",
       " 'mlflow.user': 'jupyter-admin'}>, info=<RunInfo: artifact_uri='mlflow-artifacts:/1/1e5290dfceb94a0a80c44b5f22660148/artifacts', end_time=1666735355114, experiment_id='1', lifecycle_stage='active', run_id='1e5290dfceb94a0a80c44b5f22660148', run_uuid='1e5290dfceb94a0a80c44b5f22660148', start_time=1666735339712, status='FINISHED', user_id='jupyter-admin'>>"
      ]
     },
     "execution_count": 9,
     "metadata": {},
     "output_type": "execute_result"
    }
   ],
   "source": [
    "run = client.get_run(run_id)\n",
    "run"
   ]
  },
  {
   "cell_type": "code",
   "execution_count": 10,
   "id": "52df3bdb-0969-4475-b6b6-7774da0fe296",
   "metadata": {},
   "outputs": [
    {
     "data": {
      "text/plain": [
       "{'roc_auc': 0.9027537535789404,\n",
       " 'precision': 0.9080745341614906,\n",
       " 'recall': 0.9132726075006247,\n",
       " 'f1': 0.9106661532537544}"
      ]
     },
     "execution_count": 10,
     "metadata": {},
     "output_type": "execute_result"
    }
   ],
   "source": [
    "run.data.metrics"
   ]
  },
  {
   "cell_type": "code",
   "execution_count": 11,
   "id": "ef829f40-ba3e-4887-a6a9-366d9c603c1a",
   "metadata": {},
   "outputs": [
    {
     "data": {
      "text/plain": [
       "{'features': \"['age', 'sex', 'car_class', 'driving_experience', 'speeding_penalties', 'parking_penalties', 'total_car_accident']\",\n",
       " 'categorial features': \"['sex', 'car_class']\",\n",
       " 'target': 'has_car_accident',\n",
       " 'model_type': \"<class 'catboost.core.CatBoostClassifier'>\",\n",
       " 'param_grid': \"{'learning_rate': [0.03, 0.1], 'depth': [4, 6, 10], 'l2_leaf_reg': [1, 3, 5, 7, 9]}\",\n",
       " 'best_params': \"{'depth': 10, 'l2_leaf_reg': 7, 'learning_rate': 0.03}\"}"
      ]
     },
     "execution_count": 11,
     "metadata": {},
     "output_type": "execute_result"
    }
   ],
   "source": [
    "run.data.params"
   ]
  },
  {
   "cell_type": "markdown",
   "id": "af7c2ed1-ce59-46b0-a47c-a8226c912100",
   "metadata": {
    "tags": []
   },
   "source": [
    "### Models"
   ]
  },
  {
   "cell_type": "code",
   "execution_count": 12,
   "id": "6f0dfc6b-a881-44c1-ab9e-3b14c87b9939",
   "metadata": {},
   "outputs": [
    {
     "data": {
      "text/plain": [
       "<RegisteredModel: creation_timestamp=1666731965169, description='', last_updated_timestamp=1666735355099, latest_versions=[<ModelVersion: creation_timestamp=1666735355099, current_stage='None', description='', last_updated_timestamp=1666735355099, name='driver-accident', run_id='1e5290dfceb94a0a80c44b5f22660148', run_link='', source='mlflow-artifacts:/1/1e5290dfceb94a0a80c44b5f22660148/artifacts/driver-accident', status='READY', status_message='', tags={}, user_id='', version='8'>], name='driver-accident', tags={}>"
      ]
     },
     "execution_count": 12,
     "metadata": {},
     "output_type": "execute_result"
    }
   ],
   "source": [
    "last_models = client.list_registered_models()\n",
    "reg_model = last_models[0]\n",
    "reg_model"
   ]
  },
  {
   "cell_type": "code",
   "execution_count": 13,
   "id": "3d00966c-5b80-4a17-8ca6-19dde14bc067",
   "metadata": {},
   "outputs": [
    {
     "data": {
      "text/plain": [
       "[<ModelVersion: creation_timestamp=1666735355099, current_stage='None', description='', last_updated_timestamp=1666735355099, name='driver-accident', run_id='1e5290dfceb94a0a80c44b5f22660148', run_link='', source='mlflow-artifacts:/1/1e5290dfceb94a0a80c44b5f22660148/artifacts/driver-accident', status='READY', status_message='', tags={}, user_id='', version='8'>]"
      ]
     },
     "execution_count": 13,
     "metadata": {},
     "output_type": "execute_result"
    }
   ],
   "source": [
    "reg_model.latest_versions"
   ]
  },
  {
   "cell_type": "code",
   "execution_count": 14,
   "id": "cbba38eb-2548-4501-a9f4-529685df2923",
   "metadata": {},
   "outputs": [],
   "source": [
    "def get_last_prod_model(name):\n",
    "    last_models = client.get_registered_model(name).latest_versions\n",
    "    models = list(filter(lambda x: x.current_stage == 'Production', last_models))\n",
    "    if len(models) == 0:\n",
    "        return None\n",
    "    else:\n",
    "        return models[0]"
   ]
  },
  {
   "cell_type": "code",
   "execution_count": 17,
   "id": "3181feb6-ba77-4f3a-97a5-664aedc3b073",
   "metadata": {},
   "outputs": [
    {
     "data": {
      "text/plain": [
       "<ModelVersion: creation_timestamp=1666735355099, current_stage='Production', description='', last_updated_timestamp=1666736149135, name='driver-accident', run_id='1e5290dfceb94a0a80c44b5f22660148', run_link='', source='mlflow-artifacts:/1/1e5290dfceb94a0a80c44b5f22660148/artifacts/driver-accident', status='READY', status_message='', tags={}, user_id='', version='8'>"
      ]
     },
     "execution_count": 17,
     "metadata": {},
     "output_type": "execute_result"
    }
   ],
   "source": [
    "model_version = get_last_prod_model('driver-accident')\n",
    "model_version"
   ]
  },
  {
   "cell_type": "code",
   "execution_count": 18,
   "id": "21fa0e00-3d86-49d3-a020-40413da98bc7",
   "metadata": {},
   "outputs": [
    {
     "data": {
      "text/plain": [
       "'8'"
      ]
     },
     "execution_count": 18,
     "metadata": {},
     "output_type": "execute_result"
    }
   ],
   "source": [
    "model_version.version"
   ]
  }
 ],
 "metadata": {
  "kernelspec": {
   "display_name": "Python 3 (ipykernel)",
   "language": "python",
   "name": "python3"
  },
  "language_info": {
   "codemirror_mode": {
    "name": "ipython",
    "version": 3
   },
   "file_extension": ".py",
   "mimetype": "text/x-python",
   "name": "python",
   "nbconvert_exporter": "python",
   "pygments_lexer": "ipython3",
   "version": "3.9.7"
  }
 },
 "nbformat": 4,
 "nbformat_minor": 5
}
