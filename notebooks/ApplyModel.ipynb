{
 "cells": [
  {
   "cell_type": "code",
   "execution_count": null,
   "id": "caab3e7e-185e-4613-87d6-286b2016966a",
   "metadata": {},
   "outputs": [],
   "source": [
    "import mlflow\n",
    "import os\n",
    "import datetime\n",
    "import mlflow\n",
    "from mlflow.tracking import MlflowClient\n",
    "import pandas as pd\n",
    "from sklearn.metrics import roc_auc_score, precision_score, recall_score, f1_score"
   ]
  },
  {
   "cell_type": "code",
   "execution_count": null,
   "id": "66ceda64-2276-4da9-9cce-d749eba50869",
   "metadata": {},
   "outputs": [],
   "source": [
    "client = MlflowClient()"
   ]
  },
  {
   "cell_type": "markdown",
   "id": "d9dee51c-8a39-4ec4-b61b-fe8fd295bd81",
   "metadata": {
    "jp-MarkdownHeadingCollapsed": true,
    "tags": []
   },
   "source": [
    "### Работа с экспериментами"
   ]
  },
  {
   "cell_type": "code",
   "execution_count": null,
   "id": "c1cd5448-79be-4c7d-a0eb-221417ecdeea",
   "metadata": {},
   "outputs": [],
   "source": [
    "client.list_experiments()"
   ]
  },
  {
   "cell_type": "code",
   "execution_count": null,
   "id": "50ab44b5-61eb-448d-95ba-4266feb0dc48",
   "metadata": {},
   "outputs": [],
   "source": [
    "exp = client.get_experiment_by_name('driver-accident')\n",
    "exp"
   ]
  },
  {
   "cell_type": "code",
   "execution_count": null,
   "id": "59d60c4a-046b-4792-a223-eb261613d484",
   "metadata": {},
   "outputs": [],
   "source": [
    "client.list_run_infos(exp.experiment_id)"
   ]
  },
  {
   "cell_type": "code",
   "execution_count": null,
   "id": "d223bc1e-4f8f-431d-8640-5b49fb36d9ba",
   "metadata": {},
   "outputs": [],
   "source": [
    "run_info = client.list_run_infos(exp.experiment_id)[0]\n",
    "run_info"
   ]
  },
  {
   "cell_type": "code",
   "execution_count": null,
   "id": "89d25fe7-46e6-4c93-a65f-b0116f4effd7",
   "metadata": {},
   "outputs": [],
   "source": [
    "run_id = run_info.run_id"
   ]
  },
  {
   "cell_type": "code",
   "execution_count": null,
   "id": "58fbabc2-1a9a-40ff-b4ea-75ae6a511589",
   "metadata": {},
   "outputs": [],
   "source": [
    "run = client.get_run(run_id)\n",
    "run"
   ]
  },
  {
   "cell_type": "code",
   "execution_count": null,
   "id": "52df3bdb-0969-4475-b6b6-7774da0fe296",
   "metadata": {},
   "outputs": [],
   "source": [
    "run.data.metrics"
   ]
  },
  {
   "cell_type": "code",
   "execution_count": null,
   "id": "ef829f40-ba3e-4887-a6a9-366d9c603c1a",
   "metadata": {},
   "outputs": [],
   "source": [
    "run.data.params"
   ]
  },
  {
   "cell_type": "markdown",
   "id": "af7c2ed1-ce59-46b0-a47c-a8226c912100",
   "metadata": {
    "jp-MarkdownHeadingCollapsed": true,
    "tags": []
   },
   "source": [
    "### Работа с моделями"
   ]
  },
  {
   "cell_type": "code",
   "execution_count": null,
   "id": "6f0dfc6b-a881-44c1-ab9e-3b14c87b9939",
   "metadata": {},
   "outputs": [],
   "source": [
    "last_models = client.list_registered_models()\n",
    "reg_model = last_models[0]\n",
    "reg_model"
   ]
  },
  {
   "cell_type": "code",
   "execution_count": null,
   "id": "3d00966c-5b80-4a17-8ca6-19dde14bc067",
   "metadata": {},
   "outputs": [],
   "source": [
    "reg_model.latest_versions"
   ]
  },
  {
   "cell_type": "code",
   "execution_count": null,
   "id": "cbba38eb-2548-4501-a9f4-529685df2923",
   "metadata": {},
   "outputs": [],
   "source": [
    "def get_last_prod_model(name):\n",
    "    last_models = client.get_registered_model(name).latest_versions\n",
    "    models = list(filter(lambda x: x.current_stage == 'Production', last_models))\n",
    "    if len(models) == 0:\n",
    "        return None\n",
    "    else:\n",
    "        return models[0]"
   ]
  },
  {
   "cell_type": "code",
   "execution_count": null,
   "id": "3181feb6-ba77-4f3a-97a5-664aedc3b073",
   "metadata": {},
   "outputs": [],
   "source": [
    "model_version = get_last_prod_model('driver-accident')\n",
    "model_version"
   ]
  },
  {
   "cell_type": "code",
   "execution_count": null,
   "id": "21fa0e00-3d86-49d3-a020-40413da98bc7",
   "metadata": {},
   "outputs": [],
   "source": [
    "m_version = model_version.version\n",
    "m_version"
   ]
  },
  {
   "cell_type": "markdown",
   "id": "0059f815-28d3-4481-bf60-506ec06b12ca",
   "metadata": {
    "tags": []
   },
   "source": [
    "### Подготовка данных"
   ]
  },
  {
   "cell_type": "code",
   "execution_count": null,
   "id": "037cd48c-d963-4f07-a96d-f592f435525c",
   "metadata": {},
   "outputs": [],
   "source": [
    "df = pd.read_parquet('driver-stat.parquet')"
   ]
  },
  {
   "cell_type": "code",
   "execution_count": null,
   "id": "698111d8-514c-4bdf-9a91-d7295b884584",
   "metadata": {},
   "outputs": [],
   "source": [
    "FEATURES = ['age', 'sex', 'car_class', 'driving_experience', 'speeding_penalties', 'parking_penalties', 'total_car_accident']"
   ]
  },
  {
   "cell_type": "code",
   "execution_count": null,
   "id": "97431e82-e2da-4669-88ba-b8cd35a91c47",
   "metadata": {},
   "outputs": [],
   "source": [
    "test_df = df[FEATURES]"
   ]
  },
  {
   "cell_type": "markdown",
   "id": "7025d980-9d1c-4178-b15a-f1c2b5e8288f",
   "metadata": {
    "tags": []
   },
   "source": [
    "### Загрузка и применение модели"
   ]
  },
  {
   "cell_type": "code",
   "execution_count": null,
   "id": "fcea0d36-e128-4718-a1b0-9fef36d8d016",
   "metadata": {},
   "outputs": [],
   "source": [
    "#logged_model = 'runs:/26b40e069ae34d82b35999f81671b606/driver-accident'\n",
    "logged_model = f'models:/driver-accident/{m_version}'\n",
    "\n",
    "loaded_model = mlflow.pyfunc.load_model(logged_model)\n",
    "\n",
    "import pandas as pd\n",
    "predict = loaded_model.predict(test_df)"
   ]
  },
  {
   "cell_type": "code",
   "execution_count": null,
   "id": "f3b81f6c-a166-4909-8b06-18ef1cf998f7",
   "metadata": {},
   "outputs": [],
   "source": [
    "roc_auc = roc_auc_score(df.has_car_accident, predict)\n",
    "precision = precision_score(df.has_car_accident, predict)\n",
    "recall = recall_score(df.has_car_accident, predict)\n",
    "f1 = f1_score(df.has_car_accident, predict)\n",
    "\n",
    "print(f'ROC AUC: {roc_auc}')\n",
    "print(f'Precision: {precision}')\n",
    "print(f'Recall: {recall}')\n",
    "print(f'F1: {f1}')"
   ]
  },
  {
   "cell_type": "markdown",
   "id": "2400f520-2da3-4d48-bdec-03486b94c7e0",
   "metadata": {
    "tags": []
   },
   "source": [
    "### Сервировка модели с MLFlow"
   ]
  },
  {
   "cell_type": "code",
   "execution_count": null,
   "id": "470076c7-1956-48be-a3c6-d77fa5f402a3",
   "metadata": {},
   "outputs": [],
   "source": [
    "!mlflow models serve -m models:/driver-accident/8 --port 10201"
   ]
  },
  {
   "cell_type": "code",
   "execution_count": null,
   "id": "00a37d83-6e22-4875-81eb-f3e927052223",
   "metadata": {},
   "outputs": [],
   "source": [
    "!curl -d '{\"columns\":[\"age\", \"sex\", \"car_class\", \"driving_experience\", \"speeding_penalties\", \"parking_penalties\", \"total_car_accident\"], \"data\":[[18,\"male\",\"A\",5,5,1,0]]}' -H 'Content-Type: application/json; format=pandas-split' -X POST localhost:10201/invocations"
   ]
  },
  {
   "cell_type": "code",
   "execution_count": null,
   "id": "7b07a867-e293-4dfc-8372-9683bd1ee614",
   "metadata": {},
   "outputs": [],
   "source": []
  }
 ],
 "metadata": {
  "kernelspec": {
   "display_name": "Python 3 (ipykernel)",
   "language": "python",
   "name": "python3"
  },
  "language_info": {
   "codemirror_mode": {
    "name": "ipython",
    "version": 3
   },
   "file_extension": ".py",
   "mimetype": "text/x-python",
   "name": "python",
   "nbconvert_exporter": "python",
   "pygments_lexer": "ipython3",
   "version": "3.9.7"
  }
 },
 "nbformat": 4,
 "nbformat_minor": 5
}
