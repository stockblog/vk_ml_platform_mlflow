{
 "cells": [
  {
   "cell_type": "code",
   "execution_count": 10,
   "id": "e599af50-8337-41e1-a16c-64f0d15dc228",
   "metadata": {},
   "outputs": [],
   "source": [
    "import mlflow\n",
    "import pandas as pd\n",
    "from sklearn.metrics import roc_auc_score, precision_score, recall_score, f1_score"
   ]
  },
  {
   "cell_type": "code",
   "execution_count": 2,
   "id": "19a4e97b-d299-4a1c-8f87-e94ae9852949",
   "metadata": {},
   "outputs": [],
   "source": [
    "mlflow.set_tracking_uri(\"https://ml-platform-3b36c8fb4e4070.ml.msk.vkcs.cloud/\")"
   ]
  },
  {
   "cell_type": "code",
   "execution_count": 3,
   "id": "7c42b831-9806-4072-8350-c584def1a756",
   "metadata": {},
   "outputs": [],
   "source": [
    "df = pd.read_parquet('driver-stat.parquet')"
   ]
  },
  {
   "cell_type": "code",
   "execution_count": 6,
   "id": "37e84206-20a7-4eab-9354-ccf72c13ff26",
   "metadata": {},
   "outputs": [],
   "source": [
    "FEATURES = ['age', 'sex', 'car_class', 'driving_experience', 'speeding_penalties', 'parking_penalties', 'total_car_accident']"
   ]
  },
  {
   "cell_type": "code",
   "execution_count": 13,
   "id": "f2995f5f-f10f-4d18-aaa5-4cc0effa1ab6",
   "metadata": {},
   "outputs": [
    {
     "name": "stderr",
     "output_type": "stream",
     "text": [
      "/home/jupyter-admin/.local/lib/python3.9/site-packages/catboost/core.py:1419: FutureWarning: iteritems is deprecated and will be removed in a future version. Use .items instead.\n",
      "  self._init_pool(data, label, cat_features, text_features, embedding_features, embedding_features_data, pairs, weight,\n"
     ]
    }
   ],
   "source": [
    "#logged_model = 'runs:/26b40e069ae34d82b35999f81671b606/driver-accident'\n",
    "logged_model = 'models:/driver-accident/7'\n",
    "\n",
    "loaded_model = mlflow.pyfunc.load_model(logged_model)\n",
    "\n",
    "import pandas as pd\n",
    "predict = loaded_model.predict(df[FEATURES])"
   ]
  },
  {
   "cell_type": "code",
   "execution_count": 14,
   "id": "343dbfad-fb73-4d6a-a083-5955019c7476",
   "metadata": {},
   "outputs": [
    {
     "name": "stdout",
     "output_type": "stream",
     "text": [
      "ROC AUC: 0.8944126188418323\n",
      "Precision: 0.9090644952207827\n",
      "Recall: 0.9140149812734082\n",
      "F1: 0.9115330168417828\n"
     ]
    }
   ],
   "source": [
    "roc_auc = roc_auc_score(df.has_car_accident, predict)\n",
    "precision = precision_score(df.has_car_accident, predict)\n",
    "recall = recall_score(df.has_car_accident, predict)\n",
    "f1 = f1_score(df.has_car_accident, predict)\n",
    "\n",
    "print(f'ROC AUC: {roc_auc}')\n",
    "print(f'Precision: {precision}')\n",
    "print(f'Recall: {recall}')\n",
    "print(f'F1: {f1}')"
   ]
  },
  {
   "cell_type": "code",
   "execution_count": null,
   "id": "53081c10-82e5-4e93-a2bf-b8f6604e9421",
   "metadata": {},
   "outputs": [],
   "source": []
  }
 ],
 "metadata": {
  "kernelspec": {
   "display_name": "Python 3 (ipykernel)",
   "language": "python",
   "name": "python3"
  },
  "language_info": {
   "codemirror_mode": {
    "name": "ipython",
    "version": 3
   },
   "file_extension": ".py",
   "mimetype": "text/x-python",
   "name": "python",
   "nbconvert_exporter": "python",
   "pygments_lexer": "ipython3",
   "version": "3.9.7"
  }
 },
 "nbformat": 4,
 "nbformat_minor": 5
}
